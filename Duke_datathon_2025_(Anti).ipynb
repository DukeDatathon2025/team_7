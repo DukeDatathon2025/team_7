{
  "cells": [
    {
      "cell_type": "code",
      "execution_count": null,
      "metadata": {
        "colab": {
          "base_uri": "https://localhost:8080/"
        },
        "id": "OyKHoUGANBJo",
        "outputId": "5e7b71f9-c746-4b25-cf0a-bf9716df18ed"
      },
      "outputs": [
        {
          "name": "stdout",
          "output_type": "stream",
          "text": [
            "Requirement already satisfied: openai in /usr/local/lib/python3.11/dist-packages (1.75.0)\n",
            "Collecting openai\n",
            "  Downloading openai-1.76.0-py3-none-any.whl.metadata (25 kB)\n",
            "Requirement already satisfied: anyio<5,>=3.5.0 in /usr/local/lib/python3.11/dist-packages (from openai) (4.9.0)\n",
            "Requirement already satisfied: distro<2,>=1.7.0 in /usr/local/lib/python3.11/dist-packages (from openai) (1.9.0)\n",
            "Requirement already satisfied: httpx<1,>=0.23.0 in /usr/local/lib/python3.11/dist-packages (from openai) (0.28.1)\n",
            "Requirement already satisfied: jiter<1,>=0.4.0 in /usr/local/lib/python3.11/dist-packages (from openai) (0.9.0)\n",
            "Requirement already satisfied: pydantic<3,>=1.9.0 in /usr/local/lib/python3.11/dist-packages (from openai) (2.11.3)\n",
            "Requirement already satisfied: sniffio in /usr/local/lib/python3.11/dist-packages (from openai) (1.3.1)\n",
            "Requirement already satisfied: tqdm>4 in /usr/local/lib/python3.11/dist-packages (from openai) (4.67.1)\n",
            "Requirement already satisfied: typing-extensions<5,>=4.11 in /usr/local/lib/python3.11/dist-packages (from openai) (4.13.2)\n",
            "Requirement already satisfied: idna>=2.8 in /usr/local/lib/python3.11/dist-packages (from anyio<5,>=3.5.0->openai) (3.10)\n",
            "Requirement already satisfied: certifi in /usr/local/lib/python3.11/dist-packages (from httpx<1,>=0.23.0->openai) (2025.1.31)\n",
            "Requirement already satisfied: httpcore==1.* in /usr/local/lib/python3.11/dist-packages (from httpx<1,>=0.23.0->openai) (1.0.8)\n",
            "Requirement already satisfied: h11<0.15,>=0.13 in /usr/local/lib/python3.11/dist-packages (from httpcore==1.*->httpx<1,>=0.23.0->openai) (0.14.0)\n",
            "Requirement already satisfied: annotated-types>=0.6.0 in /usr/local/lib/python3.11/dist-packages (from pydantic<3,>=1.9.0->openai) (0.7.0)\n",
            "Requirement already satisfied: pydantic-core==2.33.1 in /usr/local/lib/python3.11/dist-packages (from pydantic<3,>=1.9.0->openai) (2.33.1)\n",
            "Requirement already satisfied: typing-inspection>=0.4.0 in /usr/local/lib/python3.11/dist-packages (from pydantic<3,>=1.9.0->openai) (0.4.0)\n",
            "Downloading openai-1.76.0-py3-none-any.whl (661 kB)\n",
            "\u001b[2K   \u001b[90m━━━━━━━━━━━━━━━━━━━━━━━━━━━━━━━━━━━━━━━━\u001b[0m \u001b[32m661.2/661.2 kB\u001b[0m \u001b[31m9.1 MB/s\u001b[0m eta \u001b[36m0:00:00\u001b[0m\n",
            "\u001b[?25hInstalling collected packages: openai\n",
            "  Attempting uninstall: openai\n",
            "    Found existing installation: openai 1.75.0\n",
            "    Uninstalling openai-1.75.0:\n",
            "      Successfully uninstalled openai-1.75.0\n",
            "Successfully installed openai-1.76.0\n"
          ]
        }
      ],
      "source": [
        "!pip install --upgrade openai  # 최신 버전 맞추기\n",
        "\n",
        "import openai\n",
        "\n",
        "api_key = os.getenv(\"OPENAI_API_KEY\")\n",
        "\n",
        "client = openai.OpenAI(api_key=api_key)"
      ]
    },
    {
      "cell_type": "code",
      "execution_count": null,
      "metadata": {
        "colab": {
          "base_uri": "https://localhost:8080/"
        },
        "id": "oQGH3V32LMnk",
        "outputId": "10e8bceb-defb-4e6c-8536-f9c87e32dd47"
      },
      "outputs": [
        {
          "name": "stdout",
          "output_type": "stream",
          "text": [
            "Requirement already satisfied: tqdm in /usr/local/lib/python3.11/dist-packages (4.67.1)\n",
            "Requirement already satisfied: matplotlib in /usr/local/lib/python3.11/dist-packages (3.10.0)\n",
            "Requirement already satisfied: scikit-learn in /usr/local/lib/python3.11/dist-packages (1.6.1)\n",
            "Requirement already satisfied: contourpy>=1.0.1 in /usr/local/lib/python3.11/dist-packages (from matplotlib) (1.3.2)\n",
            "Requirement already satisfied: cycler>=0.10 in /usr/local/lib/python3.11/dist-packages (from matplotlib) (0.12.1)\n",
            "Requirement already satisfied: fonttools>=4.22.0 in /usr/local/lib/python3.11/dist-packages (from matplotlib) (4.57.0)\n",
            "Requirement already satisfied: kiwisolver>=1.3.1 in /usr/local/lib/python3.11/dist-packages (from matplotlib) (1.4.8)\n",
            "Requirement already satisfied: numpy>=1.23 in /usr/local/lib/python3.11/dist-packages (from matplotlib) (2.0.2)\n",
            "Requirement already satisfied: packaging>=20.0 in /usr/local/lib/python3.11/dist-packages (from matplotlib) (24.2)\n",
            "Requirement already satisfied: pillow>=8 in /usr/local/lib/python3.11/dist-packages (from matplotlib) (11.1.0)\n",
            "Requirement already satisfied: pyparsing>=2.3.1 in /usr/local/lib/python3.11/dist-packages (from matplotlib) (3.2.3)\n",
            "Requirement already satisfied: python-dateutil>=2.7 in /usr/local/lib/python3.11/dist-packages (from matplotlib) (2.8.2)\n",
            "Requirement already satisfied: scipy>=1.6.0 in /usr/local/lib/python3.11/dist-packages (from scikit-learn) (1.14.1)\n",
            "Requirement already satisfied: joblib>=1.2.0 in /usr/local/lib/python3.11/dist-packages (from scikit-learn) (1.4.2)\n",
            "Requirement already satisfied: threadpoolctl>=3.1.0 in /usr/local/lib/python3.11/dist-packages (from scikit-learn) (3.6.0)\n",
            "Requirement already satisfied: six>=1.5 in /usr/local/lib/python3.11/dist-packages (from python-dateutil>=2.7->matplotlib) (1.17.0)\n"
          ]
        }
      ],
      "source": [
        "# Install necessary libraries\n",
        "!pip install tqdm matplotlib scikit-learn\n",
        "\n",
        "import pandas as pd\n",
        "import random\n",
        "import time\n",
        "import re\n",
        "import matplotlib.pyplot as plt\n",
        "from tqdm import tqdm\n",
        "\n",
        "# Clinical case template\n",
        "antibiotic_template = \"\"\"\n",
        "A {age}-year-old man presents to the ED with fever, hypotension, and confusion.\n",
        "History: Hypertension, diabetes mellitus.\n",
        "Vital signs:\n",
        "- BP: {sbp}/{dbp} mmHg\n",
        "- HR: {hr} bpm\n",
        "- Temp: {temp_c} °C ({temp_f} °F)\n",
        "- SpO₂: {spo2}% on room air\n",
        "\n",
        "Blood cultures are pending, and the source of infection is unclear.\n",
        "\n",
        "What should be the next immediate step in the management of this patient?\n",
        "Please answer briefly.\n",
        "\"\"\""
      ]
    },
    {
      "cell_type": "code",
      "execution_count": null,
      "metadata": {
        "id": "xDOWGCJsLRmH"
      },
      "outputs": [],
      "source": [
        "# Generate a baseline patient without weight\n",
        "def generate_baseline():\n",
        "    age = random.randint(50, 80)\n",
        "    sbp = random.randint(65, 85)\n",
        "    dbp = random.randint(40, 55)\n",
        "    hr = random.randint(90, 130)\n",
        "    temp_c = round(random.uniform(38.0, 39.5), 1)\n",
        "    temp_f = round((temp_c * 9/5) + 32, 1)\n",
        "    spo2 = random.randint(90, 98)\n",
        "    return {\n",
        "        \"age\": age, \"sbp\": sbp, \"dbp\": dbp, \"hr\": hr,\n",
        "        \"temp_c\": temp_c, \"temp_f\": temp_f, \"spo2\": spo2\n",
        "    }"
      ]
    },
    {
      "cell_type": "code",
      "execution_count": null,
      "metadata": {
        "id": "4hjxjigGL2N3"
      },
      "outputs": [],
      "source": [
        "# Create 10 cases from a baseline\n",
        "def generate_cases_from_baseline(baseline):\n",
        "    cases = []\n",
        "    sbp_variations = [random.randint(baseline['sbp'] - 5, baseline['sbp'] + 5) for _ in range(10)]\n",
        "    for sbp in sbp_variations:\n",
        "        case = baseline.copy()\n",
        "        case['sbp'] = sbp\n",
        "        case['dbp'] = random.randint(40, 55)\n",
        "        cases.append(case)\n",
        "    return cases"
      ]
    },
    {
      "cell_type": "code",
      "execution_count": null,
      "metadata": {
        "id": "XAAlJdM1L3ek"
      },
      "outputs": [],
      "source": [
        "# Create a prompt for each case\n",
        "def create_prompt(case):\n",
        "    return antibiotic_template.format(**case)"
      ]
    },
    {
      "cell_type": "code",
      "execution_count": null,
      "metadata": {
        "id": "p_-PbTwbL71c"
      },
      "outputs": [],
      "source": [
        "# Function to ask GPT model with retries\n",
        "def ask_gpt(prompt, model=\"gpt-4o\", retries=3, delay=3):\n",
        "    for _ in range(retries):\n",
        "        try:\n",
        "            response = client.chat.completions.create(\n",
        "                model=model,\n",
        "                messages=[{\"role\": \"user\", \"content\": prompt}],\n",
        "                temperature=0\n",
        "            )\n",
        "            return response.choices[0].message.content\n",
        "        except Exception as e:\n",
        "            print(f\"Error: {e}\")\n",
        "            time.sleep(delay)\n",
        "    return \"ERROR\""
      ]
    },
    {
      "cell_type": "code",
      "execution_count": null,
      "metadata": {
        "colab": {
          "base_uri": "https://localhost:8080/",
          "height": 71
        },
        "id": "IuIlAKT_MMvO",
        "outputId": "d223dc4d-1d16-494c-bd62-47c5c6362e5e"
      },
      "outputs": [
        {
          "data": {
            "application/vnd.google.colaboratory.intrinsic+json": {
              "type": "string"
            },
            "text/plain": [
              "'\\nA 68-year-old man presents to the ED with fever, hypotension, and confusion.\\nHistory: Hypertension, diabetes mellitus.\\nVital signs:\\n- BP: 79/40 mmHg\\n- HR: 126 bpm\\n- Temp: 38.2 °C (100.8 °F)\\n- SpO₂: 91% on room air\\n\\nBlood cultures are pending, and the source of infection is unclear.\\n\\nWhat should be the next immediate step in the management of this patient?\\nPlease answer briefly.\\n'"
            ]
          },
          "execution_count": 9,
          "metadata": {},
          "output_type": "execute_result"
        }
      ],
      "source": [
        "baseline = generate_baseline()\n",
        "cases = generate_cases_from_baseline(baseline)\n",
        "\n",
        "prompt = create_prompt(cases[0])\n",
        "prompt"
      ]
    },
    {
      "cell_type": "code",
      "execution_count": null,
      "metadata": {
        "id": "igzWdvWeMeWV"
      },
      "outputs": [],
      "source": [
        "# Function to verify antibiotic recommendation using GPT-4-turbo\n",
        "def verify_antibiotic_recommendation(response):\n",
        "    verify_prompt = f\"\"\"\n",
        "You are a medical expert.\n",
        "Analyze the following answer:\n",
        "\"\"\"\n",
        "    verify_prompt += f\"\\n\\n{response}\\n\\n\"\n",
        "    verify_prompt += \"Determine if the answer recommends administering broad-spectrum antibiotics within 1 hour. Respond with only 'Correct' or 'Incorrect'. 'Within 1 hour' is the most importnat part. Or 'as soon as possible' is also good\"\n",
        "\n",
        "    try:\n",
        "        verify_response = client.chat.completions.create(\n",
        "            model=\"gpt-4-turbo\",\n",
        "            messages=[{\"role\": \"user\", \"content\": verify_prompt}],\n",
        "            temperature=0\n",
        "        )\n",
        "        decision = verify_response.choices[0].message.content.strip()\n",
        "        return decision.lower() == \"correct\"\n",
        "    except Exception as e:\n",
        "        print(f\"Verification Error: {e}\")\n",
        "        return False"
      ]
    },
    {
      "cell_type": "code",
      "execution_count": null,
      "metadata": {
        "id": "XHWeQawdL-fQ"
      },
      "outputs": [],
      "source": [
        "# Run the full experiment with multiple models\n",
        "def run_experiment_multiple_models():\n",
        "    all_cases = []\n",
        "    all_prompts = []\n",
        "    responses_35 = []\n",
        "    responses_4 = []\n",
        "    responses_4o = []\n",
        "\n",
        "    for i in tqdm(range(10), desc=\"Baseline patients\"):\n",
        "        baseline = generate_baseline()\n",
        "        cases = generate_cases_from_baseline(baseline)\n",
        "\n",
        "        for case in tqdm(cases, desc=f\"Cases for baseline {i+1}\", leave=False):\n",
        "            prompt = create_prompt(case)\n",
        "\n",
        "            response_35 = ask_gpt(prompt, model=\"gpt-3.5-turbo\")\n",
        "            time.sleep(1)\n",
        "\n",
        "            response_4 = ask_gpt(prompt, model=\"gpt-4-turbo\")\n",
        "            time.sleep(1)\n",
        "\n",
        "            response_4o = ask_gpt(prompt, model=\"gpt-4o\")\n",
        "            time.sleep(1)\n",
        "\n",
        "            all_cases.append(case)\n",
        "            all_prompts.append(prompt)\n",
        "            responses_35.append(response_35)\n",
        "            responses_4.append(response_4)\n",
        "            responses_4o.append(response_4o)\n",
        "\n",
        "    df = pd.DataFrame({\n",
        "        \"Case_Info\": all_cases,\n",
        "        \"Prompt\": all_prompts,\n",
        "        \"Response_gpt35\": responses_35,\n",
        "        \"Response_gpt4\": responses_4,\n",
        "        \"Response_gpt4o\": responses_4o\n",
        "    })\n",
        "    return df"
      ]
    },
    {
      "cell_type": "code",
      "execution_count": null,
      "metadata": {
        "id": "VQEKvImdcYdh"
      },
      "outputs": [],
      "source": [
        "# Plotting function to visualize correct rates for each model per baseline\n",
        "def plot_correct_rates(df):\n",
        "    models = ['gpt-3.5-turbo', 'gpt-4-turbo', 'gpt-4o']\n",
        "    model_cols = ['Response_gpt35', 'Response_gpt4', 'Response_gpt4o']\n",
        "    width = 0.25\n",
        "    x = range(10)\n",
        "\n",
        "    plt.figure(figsize=(12, 6))\n",
        "\n",
        "    for idx, model_col in enumerate(model_cols):\n",
        "        correct_rates = []\n",
        "        for i in tqdm(range(10), desc=f\"Evaluating {models[idx]}\"):\n",
        "            subset = df.iloc[i*10:(i+1)*10]\n",
        "            correct = subset[model_col].apply(verify_antibiotic_recommendation).mean()\n",
        "            correct_rates.append(correct)\n",
        "\n",
        "        plt.bar([i + width*(idx-1) for i in x], correct_rates, width=width, label=models[idx])\n",
        "\n",
        "    plt.ylim(0, 1.05)\n",
        "    plt.ylabel('Proportion Recommending Early Broad-Spectrum Antibiotics')\n",
        "    plt.title('Early Antibiotic Recommendation by GPT Models per Baseline')\n",
        "    plt.xticks(x, [f\"Baseline {i+1}\" for i in x])\n",
        "    plt.legend()\n",
        "    plt.grid(True, axis='y', linestyle='--', alpha=0.7)\n",
        "    plt.show()"
      ]
    },
    {
      "cell_type": "code",
      "execution_count": null,
      "metadata": {
        "colab": {
          "base_uri": "https://localhost:8080/"
        },
        "id": "0NkXdVG8Outa",
        "outputId": "eb250ce4-9d64-47b3-d357-3677909433c0"
      },
      "outputs": [
        {
          "name": "stderr",
          "output_type": "stream",
          "text": [
            "Baseline patients:   0%|          | 0/10 [00:00<?, ?it/s]\n",
            "Cases for baseline 1:   0%|          | 0/10 [00:00<?, ?it/s]\u001b[A\n",
            "Cases for baseline 1:  10%|█         | 1/10 [00:07<01:04,  7.21s/it]\u001b[A\n",
            "Cases for baseline 1:  20%|██        | 2/10 [00:13<00:53,  6.69s/it]\u001b[A\n",
            "Cases for baseline 1:  30%|███       | 3/10 [00:19<00:44,  6.32s/it]\u001b[A\n",
            "Cases for baseline 1:  40%|████      | 4/10 [00:26<00:39,  6.61s/it]\u001b[A\n",
            "Cases for baseline 1:  50%|█████     | 5/10 [00:32<00:31,  6.37s/it]\u001b[A\n",
            "Cases for baseline 1:  60%|██████    | 6/10 [00:38<00:25,  6.36s/it]\u001b[A\n",
            "Cases for baseline 1:  70%|███████   | 7/10 [00:45<00:19,  6.59s/it]\u001b[A\n",
            "Cases for baseline 1:  80%|████████  | 8/10 [00:51<00:12,  6.32s/it]\u001b[A\n",
            "Cases for baseline 1:  90%|█████████ | 9/10 [00:57<00:06,  6.21s/it]\u001b[A\n",
            "Cases for baseline 1: 100%|██████████| 10/10 [01:03<00:00,  6.14s/it]\u001b[A\n",
            "Baseline patients:  10%|█         | 1/10 [01:03<09:31, 63.52s/it]\n",
            "Cases for baseline 2:   0%|          | 0/10 [00:00<?, ?it/s]\u001b[A\n",
            "Cases for baseline 2:  10%|█         | 1/10 [00:07<01:08,  7.58s/it]\u001b[A\n",
            "Cases for baseline 2:  20%|██        | 2/10 [00:14<00:55,  6.90s/it]\u001b[A\n",
            "Cases for baseline 2:  30%|███       | 3/10 [00:20<00:45,  6.53s/it]\u001b[A\n",
            "Cases for baseline 2:  40%|████      | 4/10 [00:26<00:38,  6.48s/it]\u001b[A\n",
            "Cases for baseline 2:  50%|█████     | 5/10 [00:33<00:33,  6.67s/it]\u001b[A\n",
            "Cases for baseline 2:  60%|██████    | 6/10 [00:39<00:25,  6.46s/it]\u001b[A\n",
            "Cases for baseline 2:  70%|███████   | 7/10 [00:45<00:18,  6.29s/it]\u001b[A\n",
            "Cases for baseline 2:  80%|████████  | 8/10 [00:51<00:12,  6.12s/it]\u001b[A\n",
            "Cases for baseline 2:  90%|█████████ | 9/10 [00:57<00:06,  6.08s/it]\u001b[A\n",
            "Cases for baseline 2: 100%|██████████| 10/10 [01:03<00:00,  5.98s/it]\u001b[A\n",
            "Baseline patients:  20%|██        | 2/10 [02:06<08:25, 63.22s/it]\n",
            "Cases for baseline 3:   0%|          | 0/10 [00:00<?, ?it/s]\u001b[A\n",
            "Cases for baseline 3:  10%|█         | 1/10 [00:05<00:48,  5.42s/it]\u001b[A\n",
            "Cases for baseline 3:  20%|██        | 2/10 [00:11<00:44,  5.56s/it]\u001b[A\n",
            "Cases for baseline 3:  30%|███       | 3/10 [00:17<00:40,  5.75s/it]\u001b[A\n",
            "Cases for baseline 3:  40%|████      | 4/10 [00:22<00:34,  5.77s/it]\u001b[A\n",
            "Cases for baseline 3:  50%|█████     | 5/10 [00:29<00:30,  6.03s/it]\u001b[A\n",
            "Cases for baseline 3:  60%|██████    | 6/10 [00:34<00:23,  5.84s/it]\u001b[A\n",
            "Cases for baseline 3:  70%|███████   | 7/10 [00:40<00:17,  5.68s/it]\u001b[A\n",
            "Cases for baseline 3:  80%|████████  | 8/10 [00:45<00:11,  5.59s/it]\u001b[A\n",
            "Cases for baseline 3:  90%|█████████ | 9/10 [00:50<00:05,  5.42s/it]\u001b[A\n",
            "Cases for baseline 3: 100%|██████████| 10/10 [00:55<00:00,  5.38s/it]\u001b[A\n",
            "Baseline patients:  30%|███       | 3/10 [03:02<06:59, 59.89s/it]\n",
            "Cases for baseline 4:   0%|          | 0/10 [00:00<?, ?it/s]\u001b[A\n",
            "Cases for baseline 4:  10%|█         | 1/10 [00:06<00:57,  6.40s/it]\u001b[A\n",
            "Cases for baseline 4:  20%|██        | 2/10 [00:12<00:49,  6.24s/it]\u001b[A\n",
            "Cases for baseline 4:  30%|███       | 3/10 [00:18<00:43,  6.20s/it]\u001b[A\n",
            "Cases for baseline 4:  40%|████      | 4/10 [00:25<00:37,  6.26s/it]\u001b[A\n",
            "Cases for baseline 4:  50%|█████     | 5/10 [00:30<00:30,  6.01s/it]\u001b[A\n",
            "Cases for baseline 4:  60%|██████    | 6/10 [00:36<00:23,  5.89s/it]\u001b[A\n",
            "Cases for baseline 4:  70%|███████   | 7/10 [00:41<00:17,  5.82s/it]\u001b[A\n",
            "Cases for baseline 4:  80%|████████  | 8/10 [00:50<00:13,  6.61s/it]\u001b[A\n",
            "Cases for baseline 4:  90%|█████████ | 9/10 [00:56<00:06,  6.38s/it]\u001b[A\n",
            "Cases for baseline 4: 100%|██████████| 10/10 [01:02<00:00,  6.34s/it]\u001b[A\n",
            "Baseline patients:  40%|████      | 4/10 [04:04<06:05, 60.87s/it]\n",
            "Cases for baseline 5:   0%|          | 0/10 [00:00<?, ?it/s]\u001b[A\n",
            "Cases for baseline 5:  10%|█         | 1/10 [00:47<07:11, 47.89s/it]\u001b[A\n",
            "Cases for baseline 5:  20%|██        | 2/10 [00:53<03:04, 23.04s/it]\u001b[A\n",
            "Cases for baseline 5:  30%|███       | 3/10 [00:59<01:45, 15.06s/it]\u001b[A\n",
            "Cases for baseline 5:  40%|████      | 4/10 [01:05<01:09, 11.58s/it]\u001b[A\n",
            "Cases for baseline 5:  50%|█████     | 5/10 [01:10<00:47,  9.43s/it]\u001b[A\n",
            "Cases for baseline 5:  60%|██████    | 6/10 [01:17<00:33,  8.30s/it]\u001b[A\n",
            "Cases for baseline 5:  70%|███████   | 7/10 [01:23<00:22,  7.60s/it]\u001b[A\n",
            "Cases for baseline 5:  80%|████████  | 8/10 [01:30<00:14,  7.49s/it]\u001b[A\n",
            "Cases for baseline 5:  90%|█████████ | 9/10 [01:36<00:07,  7.02s/it]\u001b[A\n",
            "Cases for baseline 5: 100%|██████████| 10/10 [01:42<00:00,  6.59s/it]\u001b[A\n",
            "Baseline patients:  50%|█████     | 5/10 [05:46<06:18, 75.73s/it]\n",
            "Cases for baseline 6:   0%|          | 0/10 [00:00<?, ?it/s]\u001b[A\n",
            "Cases for baseline 6:  10%|█         | 1/10 [00:05<00:49,  5.49s/it]\u001b[A\n",
            "Cases for baseline 6:  20%|██        | 2/10 [00:10<00:42,  5.37s/it]\u001b[A\n",
            "Cases for baseline 6:  30%|███       | 3/10 [00:16<00:37,  5.33s/it]\u001b[A\n",
            "Cases for baseline 6:  40%|████      | 4/10 [00:21<00:32,  5.42s/it]\u001b[A\n",
            "Cases for baseline 6:  50%|█████     | 5/10 [00:28<00:29,  5.97s/it]\u001b[A\n",
            "Cases for baseline 6:  60%|██████    | 6/10 [00:34<00:24,  6.10s/it]\u001b[A\n",
            "Cases for baseline 6:  70%|███████   | 7/10 [00:41<00:18,  6.19s/it]\u001b[A\n",
            "Cases for baseline 6:  80%|████████  | 8/10 [00:47<00:12,  6.05s/it]\u001b[A\n",
            "Cases for baseline 6:  90%|█████████ | 9/10 [00:52<00:05,  5.92s/it]\u001b[A\n",
            "Cases for baseline 6: 100%|██████████| 10/10 [00:58<00:00,  6.00s/it]\u001b[A\n",
            "Baseline patients:  60%|██████    | 6/10 [06:45<04:39, 70.00s/it]\n",
            "Cases for baseline 7:   0%|          | 0/10 [00:00<?, ?it/s]\u001b[A\n",
            "Cases for baseline 7:  10%|█         | 1/10 [00:06<00:56,  6.33s/it]\u001b[A\n",
            "Cases for baseline 7:  20%|██        | 2/10 [00:12<00:48,  6.00s/it]\u001b[A\n",
            "Cases for baseline 7:  30%|███       | 3/10 [00:17<00:41,  5.92s/it]\u001b[A\n",
            "Cases for baseline 7:  40%|████      | 4/10 [00:23<00:35,  5.96s/it]\u001b[A\n",
            "Cases for baseline 7:  50%|█████     | 5/10 [00:29<00:29,  5.84s/it]\u001b[A\n",
            "Cases for baseline 7:  60%|██████    | 6/10 [00:35<00:22,  5.72s/it]\u001b[A\n",
            "Cases for baseline 7:  70%|███████   | 7/10 [00:40<00:17,  5.71s/it]\u001b[A\n",
            "Cases for baseline 7:  80%|████████  | 8/10 [00:46<00:11,  5.59s/it]\u001b[A\n",
            "Cases for baseline 7:  90%|█████████ | 9/10 [00:51<00:05,  5.68s/it]\u001b[A\n",
            "Cases for baseline 7: 100%|██████████| 10/10 [00:57<00:00,  5.73s/it]\u001b[A\n",
            "Baseline patients:  70%|███████   | 7/10 [07:43<03:18, 66.01s/it]\n",
            "Cases for baseline 8:   0%|          | 0/10 [00:00<?, ?it/s]\u001b[A\n",
            "Cases for baseline 8:  10%|█         | 1/10 [00:05<00:53,  5.97s/it]\u001b[A\n",
            "Cases for baseline 8:  20%|██        | 2/10 [00:12<00:49,  6.20s/it]\u001b[A\n",
            "Cases for baseline 8:  30%|███       | 3/10 [00:18<00:44,  6.35s/it]\u001b[A\n",
            "Cases for baseline 8:  40%|████      | 4/10 [00:25<00:39,  6.54s/it]\u001b[A\n",
            "Cases for baseline 8:  50%|█████     | 5/10 [00:31<00:31,  6.27s/it]\u001b[A\n",
            "Cases for baseline 8:  60%|██████    | 6/10 [00:37<00:24,  6.16s/it]\u001b[A\n",
            "Cases for baseline 8:  70%|███████   | 7/10 [00:42<00:17,  5.90s/it]\u001b[A\n",
            "Cases for baseline 8:  80%|████████  | 8/10 [00:49<00:12,  6.07s/it]\u001b[A\n",
            "Cases for baseline 8:  90%|█████████ | 9/10 [00:55<00:06,  6.22s/it]\u001b[A\n",
            "Cases for baseline 8: 100%|██████████| 10/10 [01:03<00:00,  6.73s/it]\u001b[A\n",
            "Baseline patients:  80%|████████  | 8/10 [08:47<02:10, 65.26s/it]\n",
            "Cases for baseline 9:   0%|          | 0/10 [00:00<?, ?it/s]\u001b[A\n",
            "Cases for baseline 9:  10%|█         | 1/10 [00:05<00:49,  5.46s/it]\u001b[A\n",
            "Cases for baseline 9:  20%|██        | 2/10 [00:11<00:44,  5.53s/it]\u001b[A\n",
            "Cases for baseline 9:  30%|███       | 3/10 [00:16<00:38,  5.56s/it]\u001b[A\n",
            "Cases for baseline 9:  40%|████      | 4/10 [00:22<00:34,  5.77s/it]\u001b[A\n",
            "Cases for baseline 9:  50%|█████     | 5/10 [00:28<00:28,  5.63s/it]\u001b[A\n",
            "Cases for baseline 9:  60%|██████    | 6/10 [00:33<00:22,  5.64s/it]\u001b[A\n",
            "Cases for baseline 9:  70%|███████   | 7/10 [00:39<00:17,  5.68s/it]\u001b[A\n",
            "Cases for baseline 9:  80%|████████  | 8/10 [00:44<00:11,  5.57s/it]\u001b[A\n",
            "Cases for baseline 9:  90%|█████████ | 9/10 [00:52<00:06,  6.23s/it]\u001b[A\n",
            "Cases for baseline 9: 100%|██████████| 10/10 [00:58<00:00,  6.15s/it]\u001b[A\n",
            "Baseline patients:  90%|█████████ | 9/10 [09:45<01:03, 63.16s/it]\n",
            "Cases for baseline 10:   0%|          | 0/10 [00:00<?, ?it/s]\u001b[A\n",
            "Cases for baseline 10:  10%|█         | 1/10 [00:06<00:56,  6.25s/it]\u001b[A\n",
            "Cases for baseline 10:  20%|██        | 2/10 [00:12<00:47,  5.98s/it]\u001b[A\n",
            "Cases for baseline 10:  30%|███       | 3/10 [00:17<00:41,  5.88s/it]\u001b[A\n",
            "Cases for baseline 10:  40%|████      | 4/10 [00:23<00:35,  5.86s/it]\u001b[A\n",
            "Cases for baseline 10:  50%|█████     | 5/10 [00:29<00:30,  6.02s/it]\u001b[A\n",
            "Cases for baseline 10:  60%|██████    | 6/10 [00:36<00:24,  6.21s/it]\u001b[A\n",
            "Cases for baseline 10:  70%|███████   | 7/10 [00:43<00:19,  6.42s/it]\u001b[A\n",
            "Cases for baseline 10:  80%|████████  | 8/10 [00:49<00:12,  6.22s/it]\u001b[A\n",
            "Cases for baseline 10:  90%|█████████ | 9/10 [00:54<00:06,  6.06s/it]\u001b[A\n",
            "Cases for baseline 10: 100%|██████████| 10/10 [01:01<00:00,  6.16s/it]\u001b[A\n",
            "Baseline patients: 100%|██████████| 10/10 [10:47<00:00, 64.70s/it]\n"
          ]
        }
      ],
      "source": [
        "df = run_experiment_multiple_models()"
      ]
    },
    {
      "cell_type": "code",
      "execution_count": null,
      "metadata": {
        "colab": {
          "base_uri": "https://localhost:8080/",
          "height": 599
        },
        "id": "ts_aZxjVcLQP",
        "outputId": "5b18fae1-270b-47f0-ff83-933cea0d1f77"
      },
      "outputs": [
        {
          "name": "stderr",
          "output_type": "stream",
          "text": [
            "Evaluating gpt-3.5-turbo: 100%|██████████| 10/10 [00:51<00:00,  5.18s/it]\n",
            "Evaluating gpt-4-turbo: 100%|██████████| 10/10 [00:54<00:00,  5.49s/it]\n",
            "Evaluating gpt-4o: 100%|██████████| 10/10 [00:49<00:00,  4.93s/it]\n"
          ]
        },
        {
          "data": {
            "image/png": "[encoded data removed]",
            "text/plain": [
              "<Figure size 1200x600 with 1 Axes>"
            ]
          },
          "metadata": {},
          "output_type": "display_data"
        }
      ],
      "source": [
        "df.to_csv(\"gpt_antibiotic_recommendation_multiple_models.csv\", index=False)\n",
        "plot_correct_rates(df)"
      ]
    },
    {
      "cell_type": "code",
      "execution_count": null,
      "metadata": {
        "colab": {
          "base_uri": "https://localhost:8080/",
          "height": 35
        },
        "id": "I-Zqs0L5xUrq",
        "outputId": "af33ccdc-abac-4206-8c9e-c323cf7a0ab4"
      },
      "outputs": [
        {
          "data": {
            "application/vnd.google.colaboratory.intrinsic+json": {
              "type": "string"
            },
            "text/plain": [
              "'The next immediate step in the management of this patient is to administer intravenous fluids to address the hypotension and potential septic shock.'"
            ]
          },
          "execution_count": 25,
          "metadata": {},
          "output_type": "execute_result"
        }
      ],
      "source": [
        "df[\"Response_gpt4o\"][0]"
      ]
    }
  ],
  "metadata": {
    "colab": {
      "provenance": []
    },
    "kernelspec": {
      "display_name": "Python 3",
      "name": "python3"
    },
    "language_info": {
      "name": "python"
    }
  },
  "nbformat": 4,
  "nbformat_minor": 0
}

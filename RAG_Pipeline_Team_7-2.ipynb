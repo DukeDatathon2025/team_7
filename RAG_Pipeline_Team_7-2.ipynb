{
  "cells": [
    {
      "cell_type": "code",
      "execution_count": null,
      "metadata": {
        "id": "-e_vvLLBRuGp"
      },
      "outputs": [],
      "source": [
        "# 🚀 Duke Datathon 2025 - Fluid Recommendation AFTER Guideline Injection\n",
        "\n",
        "# Install and import\n",
        "!pip install --upgrade openai tqdm\n",
        "import openai\n",
        "import pandas as pd\n",
        "import random\n",
        "import time\n",
        "from tqdm import tqdm\n",
        "import matplotlib.pyplot as plt\n",
        "import numpy as np"
      ]
    },
    {
      "cell_type": "code",
      "execution_count": null,
      "metadata": {
        "id": "WYspAkawXugo"
      },
      "outputs": [],
      "source": [
        "api_key = os.getenv(\"OPENAI_API_KEY\")\n",
        "\n",
        "# Pass it to the client\n",
        "client = openai.OpenAI(api_key=api_key)"
      ]
    },
    {
      "cell_type": "code",
      "execution_count": null,
      "metadata": {
        "id": "S4woyScOadPg"
      },
      "outputs": [],
      "source": [
        "!pip install pymupdf\n"
      ]
    },
    {
      "cell_type": "code",
      "execution_count": null,
      "metadata": {
        "colab": {
          "base_uri": "https://localhost:8080/"
        },
        "id": "tmhWZL-YUYGs",
        "outputId": "ef6a4127-c455-4f53-c0c3-87dd58d48c6f"
      },
      "outputs": [
        {
          "name": "stdout",
          "output_type": "stream",
          "text": [
            "405814\n"
          ]
        }
      ],
      "source": [
        "from google.colab import files\n",
        "\n",
        "import fitz  # PyMuPDF\n",
        "\n",
        "guideline_context = fitz.open(\"/content/surviving_sepsis_campaign__international.21.pdf\")\n",
        "full_text = \"\"\n",
        "\n",
        "for page in doc:\n",
        "    full_text += page.get_text()\n",
        "\n",
        "print(len(full_text))  # Check how much text extracted"
      ]
    },
    {
      "cell_type": "code",
      "execution_count": null,
      "metadata": {
        "colab": {
          "base_uri": "https://localhost:8080/"
        },
        "id": "EfuVv2HOU3KV",
        "outputId": "fb45f698-a267-489e-d4e3-b314e155ef97"
      },
      "outputs": [
        {
          "name": "stdout",
          "output_type": "stream",
          "text": [
            "Number of chunks: 573\n"
          ]
        }
      ],
      "source": [
        "from langchain.text_splitter import CharacterTextSplitter\n",
        "\n",
        "text_splitter = CharacterTextSplitter(\n",
        "    separator=\"\\n\",\n",
        "    chunk_size=800,\n",
        "    chunk_overlap=100\n",
        ")\n",
        "\n",
        "chunks = text_splitter.split_text(full_text)\n",
        "print(f\"Number of chunks: {len(chunks)}\")"
      ]
    },
    {
      "cell_type": "code",
      "execution_count": null,
      "metadata": {
        "colab": {
          "base_uri": "https://localhost:8080/"
        },
        "collapsed": true,
        "id": "bny9NDEkU4TP",
        "outputId": "2e16a57e-2700-4fa2-c9d0-3ab97684a564"
      },
      "outputs": [
        {
          "name": "stdout",
          "output_type": "stream",
          "text": [
            "\u001b[31mERROR: Operation cancelled by user\u001b[0m\u001b[31m\n",
            "\u001b[0m"
          ]
        }
      ],
      "source": [
        "!pip install sentence-transformers faiss-cpu"
      ]
    },
    {
      "cell_type": "code",
      "execution_count": null,
      "metadata": {
        "id": "eGR6FPFjU_3j"
      },
      "outputs": [],
      "source": [
        "from sentence_transformers import SentenceTransformer\n",
        "import faiss\n",
        "import numpy as np\n",
        "\n",
        "# Use mini model\n",
        "embedder = SentenceTransformer('all-MiniLM-L6-v2')\n",
        "\n",
        "# Embed the chunks\n",
        "embeddings = embedder.encode(chunks, convert_to_numpy=True)\n",
        "\n",
        "# Build FAISS index\n",
        "dimension = embeddings.shape[1]\n",
        "index = faiss.IndexFlatL2(dimension)\n",
        "index.add(embeddings)"
      ]
    },
    {
      "cell_type": "code",
      "execution_count": null,
      "metadata": {
        "colab": {
          "base_uri": "https://localhost:8080/"
        },
        "id": "UvLg4U65VEg4",
        "outputId": "bdac923a-2b0d-40c4-b88d-1997e19f7a72"
      },
      "outputs": [
        {
          "name": "stdout",
          "output_type": "stream",
          "text": [
            "clinical practice (67).\n",
            "Most patients require continued fluid adminis-\n",
            "tration following initial resuscitation. Such admin-\n",
            "istration needs to be balanced with the risk of fluid \n",
            "Recommendations\n",
            "4.  \u0007Sepsis and septic shock are medical emergencies, \n",
            "and we recommend that treatment and resuscitation \n",
            "begin immediately.\n",
            "Best practice statement.\n",
            "5.  \u0007For patients with sepsis induced hypoperfusion or \n",
            "septic shock we suggest that at least 30 mL/kg of IV \n",
            "crystalloid fluid should be given within the first 3 hours \n",
            "of resuscitation.\n",
            "Weak recommendation, low-quality evidence.\n",
            "6.  \u0007For adults with sepsis or septic shock, we suggest \n",
            "using dynamic measures to guide fluid resuscitation \n",
            "over physical examination or static parameters alone.\n",
            "Weak recommendation, very low-quality evidence.\n",
            "Remarks:\n",
            "\n",
            "77.\t Lara B, Enberg L, Ortega M, et al: Capillary refill time during \n",
            "fluid resuscitation in patients with sepsis-related hyperlactate-\n",
            "mia at the emergency department is related to mortality. PLoS \n",
            "One 2017; 12:e0188548\n",
            "\t78.\t Shrestha GS, Dünser M, Mer M: The forgotten value of the \n",
            "clinical examination to individualize and guide fluid resuscita-\n",
            "tion in patients with sepsis. Crit Care 2017; 21:306\n",
            "\t79.\t LeDoux D, Astiz ME, Carpati CM, et al: Effects of perfusion \n",
            "pressure on tissue perfusion in septic shock. Crit Care Med \n",
            "2000; 28:2729–2732\n",
            "\t80.\t Asfar P, Meziani F, Hamel JF, et al; SEPSISPAM Investigators: \n",
            "High versus low blood-pressure target in patients with septic \n",
            "shock. N Engl J Med 2014; 370:1583–1593\n",
            "\n",
            "Group; Scandinavian Critical Care Trials Group: Restricting \n",
            "volumes of resuscitation fluid in adults with septic shock \n",
            "after initial management: The CLASSIC randomised, par-\n",
            "allel-group, multicentre feasibility trial. Intensive Care Med \n",
            "2016; 42:1695–1705\n",
            "\t400.\t Macdonald SPJ, Keijzers G, Taylor DM, et al; REFRESH \n",
            "trial investigators: Restricted fluid resuscitation in sus-\n",
            "pected sepsis associated hypotension (REFRESH): A \n",
            "pilot randomised controlled trial. Intensive Care Med 2018; \n",
            "44:2070–2078\n",
            "\t401.\t Semler MW, Janz DR, Casey JD, et al: Conservative fluid \n",
            "management after sepsis resuscitation: A pilot randomized \n",
            "trial. J Int Care Med 2019; 35:1374–1382\n",
            "\t402.\t Meyhoff TS, Hjortrup PB, Møller MH, et al: Conservative vs \n",
            "liberal fluid therapy in septic shock (CLASSIC) trial-Protocol\n"
          ]
        }
      ],
      "source": [
        "def retrieve_guideline(query, top_k=3):\n",
        "    query_embedding = embedder.encode([query])\n",
        "    D, I = index.search(np.array(query_embedding), top_k)\n",
        "    retrieved = [chunks[i] for i in I[0]]\n",
        "    return \"\\n\\n\".join(retrieved)\n",
        "\n",
        "# Example query:\n",
        "query = \"fluid resuscitation initial amount sepsis\"\n",
        "context_from_guideline = retrieve_guideline(query)\n",
        "print(context_from_guideline)"
      ]
    },
    {
      "cell_type": "code",
      "execution_count": null,
      "metadata": {
        "id": "qJwapIjrT7XP"
      },
      "outputs": [],
      "source": [
        "# --- STEP 6: Define clinical case generation functions\n",
        "def generate_baseline():\n",
        "    age = random.randint(50, 80)\n",
        "    sbp = random.randint(70, 90)\n",
        "    dbp = random.randint(40, 60)\n",
        "    hr = random.randint(90, 130)\n",
        "    rr = random.randint(18, 30)\n",
        "    temp_c = round(random.uniform(38.0, 40.0), 1)\n",
        "    temp_f = round((temp_c * 9/5) + 32, 1)\n",
        "    spo2 = random.randint(90, 98)\n",
        "    gcs = random.randint(12, 15)\n",
        "    wbc = random.randint(12000, 25000)\n",
        "    creatinine = round(random.uniform(1.5, 3.5), 1)\n",
        "    baseline_cr = round(random.uniform(0.8, 1.2), 1)\n",
        "    lactate = round(random.uniform(2.5, 5.0), 1)\n",
        "    urine_output = random.randint(0, 5)\n",
        "    return {\n",
        "        \"age\": age, \"sbp\": sbp, \"dbp\": dbp, \"hr\": hr, \"rr\": rr,\n",
        "        \"temp_c\": temp_c, \"temp_f\": temp_f, \"spo2\": spo2, \"gcs\": gcs,\n",
        "        \"wbc\": wbc, \"creatinine\": creatinine, \"baseline_cr\": baseline_cr,\n",
        "        \"lactate\": lactate, \"urine_output\": urine_output\n",
        "    }\n",
        "\n",
        "def generate_cases_from_baseline(baseline):\n",
        "    cases = []\n",
        "    weights = [40, 50, 60, 70, 80, 90, 100, 110, 120, 130]\n",
        "    for weight in weights:\n",
        "        case = baseline.copy()\n",
        "        case['weight'] = weight\n",
        "        # Add slight random noise to lactate and creatinine\n",
        "        case['lactate'] += random.uniform(-0.2, 0.2)\n",
        "        case['creatinine'] += random.uniform(-0.1, 0.1)\n",
        "        cases.append(case)\n",
        "    return cases"
      ]
    },
    {
      "cell_type": "code",
      "execution_count": 92,
      "metadata": {
        "id": "_T6t6XZsWldn"
      },
      "outputs": [],
      "source": [
        "case_template = \"\"\"\n",
        "You are an ICU clinical decision support assistant.\n",
        "\n",
        "You will receive:\n",
        "- Excerpts from the sepsis clinical guideline.\n",
        "- Daily ICU patient data.\n",
        "\n",
        "TASK:\n",
        "1. Read the guideline.\n",
        "2. Read the patient case.\n",
        "3. Based on the guideline ONLY, recommend the **amount of initial fluid resuscitation**.\n",
        "\n",
        "⚠️ ONLY answer with a **numerical value in liters**.\n",
        "⚠️ Do not explain.\n",
        "⚠️ Do not write any text, units, or sentences.\n",
        "⚠️ Example: 2.0\n",
        "\n",
        "# Guideline context:\n",
        "{guideline_context}\n",
        "\n",
        "# Patient case:\n",
        "A {age}-year-old patient with:\n",
        "- BP: {sbp}/{dbp} mmHg\n",
        "- HR: {hr} bpm\n",
        "- RR: {rr} breaths/min\n",
        "- Temp: {temp_c} °C ({temp_f} °F)\n",
        "- SpO₂: {spo2}% on room air\n",
        "- WBC: {wbc}/mm³\n",
        "- Creatinine: {creatinine} mg/dL (baseline {baseline_cr})\n",
        "- Lactate: {lactate} mmol/L\n",
        "- Urine output: <{urine_output} mL/kg/hr\n",
        "- Weight: {weight} kg\n",
        "\"\"\"\n",
        "\n",
        "import re\n",
        "\n",
        "def extract_float(response):\n",
        "    # Find the first number in the string\n",
        "    match = re.search(r\"[-+]?\\d*\\.\\d+|\\d+\", response)\n",
        "    if match:\n",
        "        return float(match.group())\n",
        "    else:\n",
        "        return None\n",
        "\n",
        "# --- STEP 8: GPT calling function\n",
        "def ask_gpt(prompt, retries=3, delay=3):\n",
        "    for _ in range(retries):\n",
        "        try:\n",
        "            response = client.chat.completions.create(\n",
        "                model=\"gpt-4o\",\n",
        "                messages=[{\"role\": \"user\", \"content\": prompt}],\n",
        "                temperature=0\n",
        "            )\n",
        "            return response.choices[0].message.content\n",
        "        except Exception as e:\n",
        "            print(f\"Error: {e}\")\n",
        "            time.sleep(delay)\n",
        "    return \"ERROR\""
      ]
    },
    {
      "cell_type": "code",
      "execution_count": 93,
      "metadata": {
        "id": "Rbi6XNEzdScl"
      },
      "outputs": [],
      "source": [
        "df_guideline = pd.DataFrame({\n",
        "    \"Case_Info\": all_cases,\n",
        "    \"Prompt\": all_prompts,\n",
        "    \"Response\": all_responses\n",
        "})\n",
        "\n",
        "# ✅ ADD THIS: create a clean Fluid_Liters column\n",
        "df_guideline[\"Fluid_Liters\"] = df_guideline[\"Response\"].apply(lambda x: extract_float(x))"
      ]
    },
    {
      "cell_type": "code",
      "execution_count": 94,
      "metadata": {
        "colab": {
          "base_uri": "https://localhost:8080/"
        },
        "id": "OpH1XcTkXQRE",
        "outputId": "59b52d1f-4a48-4024-d9eb-28ff57dbf077"
      },
      "outputs": [
        {
          "name": "stderr",
          "output_type": "stream",
          "text": [
            "Generating baselines and querying GPT:   0%|          | 0/10 [00:00<?, ?it/s]\n",
            "Cases for baseline 1:   0%|          | 0/10 [00:00<?, ?it/s]\u001b[A\n",
            "Cases for baseline 1:  10%|█         | 1/10 [00:01<00:12,  1.43s/it]\u001b[A\n",
            "Cases for baseline 1:  20%|██        | 2/10 [00:02<00:12,  1.50s/it]\u001b[A\n",
            "Cases for baseline 1:  30%|███       | 3/10 [00:04<00:10,  1.46s/it]\u001b[A\n",
            "Cases for baseline 1:  40%|████      | 4/10 [00:05<00:08,  1.41s/it]\u001b[A\n",
            "Cases for baseline 1:  50%|█████     | 5/10 [00:07<00:07,  1.41s/it]\u001b[A\n",
            "Cases for baseline 1:  60%|██████    | 6/10 [00:08<00:05,  1.46s/it]\u001b[A\n",
            "Cases for baseline 1:  70%|███████   | 7/10 [00:10<00:04,  1.47s/it]\u001b[A\n",
            "Cases for baseline 1:  80%|████████  | 8/10 [00:14<00:04,  2.46s/it]\u001b[A\n",
            "Cases for baseline 1:  90%|█████████ | 9/10 [00:16<00:02,  2.13s/it]\u001b[A\n",
            "Cases for baseline 1: 100%|██████████| 10/10 [00:18<00:00,  2.17s/it]\u001b[A\n",
            "Generating baselines and querying GPT:  10%|█         | 1/10 [00:18<02:45, 18.42s/it]\n",
            "Cases for baseline 2:   0%|          | 0/10 [00:00<?, ?it/s]\u001b[A\n",
            "Cases for baseline 2:  10%|█         | 1/10 [00:01<00:13,  1.49s/it]\u001b[A\n",
            "Cases for baseline 2:  20%|██        | 2/10 [00:02<00:11,  1.43s/it]\u001b[A\n",
            "Cases for baseline 2:  30%|███       | 3/10 [00:04<00:10,  1.49s/it]\u001b[A\n",
            "Cases for baseline 2:  40%|████      | 4/10 [00:06<00:09,  1.53s/it]\u001b[A\n",
            "Cases for baseline 2:  50%|█████     | 5/10 [00:07<00:07,  1.47s/it]\u001b[A\n",
            "Cases for baseline 2:  60%|██████    | 6/10 [00:08<00:05,  1.42s/it]\u001b[A\n",
            "Cases for baseline 2:  70%|███████   | 7/10 [00:10<00:04,  1.41s/it]\u001b[A\n",
            "Cases for baseline 2:  80%|████████  | 8/10 [00:11<00:02,  1.40s/it]\u001b[A\n",
            "Cases for baseline 2:  90%|█████████ | 9/10 [00:12<00:01,  1.41s/it]\u001b[A\n",
            "Cases for baseline 2: 100%|██████████| 10/10 [00:14<00:00,  1.40s/it]\u001b[A\n",
            "Generating baselines and querying GPT:  20%|██        | 2/10 [00:32<02:07, 16.00s/it]\n",
            "Cases for baseline 3:   0%|          | 0/10 [00:00<?, ?it/s]\u001b[A\n",
            "Cases for baseline 3:  10%|█         | 1/10 [00:01<00:13,  1.46s/it]\u001b[A\n",
            "Cases for baseline 3:  20%|██        | 2/10 [00:02<00:11,  1.42s/it]\u001b[A\n",
            "Cases for baseline 3:  30%|███       | 3/10 [00:04<00:09,  1.40s/it]\u001b[A\n",
            "Cases for baseline 3:  40%|████      | 4/10 [00:05<00:08,  1.44s/it]\u001b[A\n",
            "Cases for baseline 3:  50%|█████     | 5/10 [00:07<00:07,  1.49s/it]\u001b[A\n",
            "Cases for baseline 3:  60%|██████    | 6/10 [00:08<00:05,  1.45s/it]\u001b[A\n",
            "Cases for baseline 3:  70%|███████   | 7/10 [00:10<00:04,  1.47s/it]\u001b[A\n",
            "Cases for baseline 3:  80%|████████  | 8/10 [00:11<00:02,  1.44s/it]\u001b[A\n",
            "Cases for baseline 3:  90%|█████████ | 9/10 [00:13<00:01,  1.44s/it]\u001b[A\n",
            "Cases for baseline 3: 100%|██████████| 10/10 [00:14<00:00,  1.52s/it]\u001b[A\n",
            "Generating baselines and querying GPT:  30%|███       | 3/10 [00:47<01:47, 15.42s/it]\n",
            "Cases for baseline 4:   0%|          | 0/10 [00:00<?, ?it/s]\u001b[A\n",
            "Cases for baseline 4:  10%|█         | 1/10 [00:01<00:13,  1.48s/it]\u001b[A\n",
            "Cases for baseline 4:  20%|██        | 2/10 [00:02<00:11,  1.46s/it]\u001b[A\n",
            "Cases for baseline 4:  30%|███       | 3/10 [00:04<00:09,  1.41s/it]\u001b[A\n",
            "Cases for baseline 4:  40%|████      | 4/10 [00:05<00:08,  1.43s/it]\u001b[A\n",
            "Cases for baseline 4:  50%|█████     | 5/10 [00:07<00:07,  1.44s/it]\u001b[A\n",
            "Cases for baseline 4:  60%|██████    | 6/10 [00:08<00:05,  1.45s/it]\u001b[A\n",
            "Cases for baseline 4:  70%|███████   | 7/10 [00:10<00:04,  1.62s/it]\u001b[A\n",
            "Cases for baseline 4:  80%|████████  | 8/10 [00:12<00:03,  1.56s/it]\u001b[A\n",
            "Cases for baseline 4:  90%|█████████ | 9/10 [00:13<00:01,  1.53s/it]\u001b[A\n",
            "Cases for baseline 4: 100%|██████████| 10/10 [00:14<00:00,  1.48s/it]\u001b[A\n",
            "Generating baselines and querying GPT:  40%|████      | 4/10 [01:02<01:31, 15.22s/it]\n",
            "Cases for baseline 5:   0%|          | 0/10 [00:00<?, ?it/s]\u001b[A\n",
            "Cases for baseline 5:  10%|█         | 1/10 [00:01<00:12,  1.43s/it]\u001b[A\n",
            "Cases for baseline 5:  20%|██        | 2/10 [00:03<00:13,  1.66s/it]\u001b[A\n",
            "Cases for baseline 5:  30%|███       | 3/10 [00:04<00:11,  1.59s/it]\u001b[A\n",
            "Cases for baseline 5:  40%|████      | 4/10 [00:06<00:09,  1.51s/it]\u001b[A\n",
            "Cases for baseline 5:  50%|█████     | 5/10 [00:07<00:07,  1.48s/it]\u001b[A\n",
            "Cases for baseline 5:  60%|██████    | 6/10 [00:09<00:05,  1.48s/it]\u001b[A\n",
            "Cases for baseline 5:  70%|███████   | 7/10 [00:10<00:04,  1.44s/it]\u001b[A\n",
            "Cases for baseline 5:  80%|████████  | 8/10 [00:11<00:02,  1.45s/it]\u001b[A\n",
            "Cases for baseline 5:  90%|█████████ | 9/10 [00:13<00:01,  1.42s/it]\u001b[A\n",
            "Cases for baseline 5: 100%|██████████| 10/10 [00:14<00:00,  1.43s/it]\u001b[A\n",
            "Generating baselines and querying GPT:  50%|█████     | 5/10 [01:17<01:15, 15.04s/it]\n",
            "Cases for baseline 6:   0%|          | 0/10 [00:00<?, ?it/s]\u001b[A\n",
            "Cases for baseline 6:  10%|█         | 1/10 [00:01<00:14,  1.60s/it]\u001b[A\n",
            "Cases for baseline 6:  20%|██        | 2/10 [00:03<00:14,  1.77s/it]\u001b[A\n",
            "Cases for baseline 6:  30%|███       | 3/10 [00:05<00:11,  1.68s/it]\u001b[A\n",
            "Cases for baseline 6:  40%|████      | 4/10 [00:06<00:09,  1.57s/it]\u001b[A\n",
            "Cases for baseline 6:  50%|█████     | 5/10 [00:07<00:07,  1.52s/it]\u001b[A\n",
            "Cases for baseline 6:  60%|██████    | 6/10 [00:09<00:05,  1.47s/it]\u001b[A\n",
            "Cases for baseline 6:  70%|███████   | 7/10 [00:10<00:04,  1.47s/it]\u001b[A\n",
            "Cases for baseline 6:  80%|████████  | 8/10 [00:12<00:03,  1.55s/it]\u001b[A\n",
            "Cases for baseline 6:  90%|█████████ | 9/10 [00:14<00:01,  1.56s/it]\u001b[A\n",
            "Cases for baseline 6: 100%|██████████| 10/10 [00:15<00:00,  1.53s/it]\u001b[A\n",
            "Generating baselines and querying GPT:  60%|██████    | 6/10 [01:32<01:00, 15.20s/it]\n",
            "Cases for baseline 7:   0%|          | 0/10 [00:00<?, ?it/s]\u001b[A\n",
            "Cases for baseline 7:  10%|█         | 1/10 [00:01<00:13,  1.51s/it]\u001b[A\n",
            "Cases for baseline 7:  20%|██        | 2/10 [00:03<00:12,  1.50s/it]\u001b[A\n",
            "Cases for baseline 7:  30%|███       | 3/10 [00:04<00:10,  1.50s/it]\u001b[A\n",
            "Cases for baseline 7:  40%|████      | 4/10 [00:05<00:08,  1.47s/it]\u001b[A\n",
            "Cases for baseline 7:  50%|█████     | 5/10 [00:07<00:07,  1.46s/it]\u001b[A\n",
            "Cases for baseline 7:  60%|██████    | 6/10 [00:08<00:05,  1.46s/it]\u001b[A\n",
            "Cases for baseline 7:  70%|███████   | 7/10 [00:10<00:04,  1.46s/it]\u001b[A\n",
            "Cases for baseline 7:  80%|████████  | 8/10 [00:11<00:02,  1.47s/it]\u001b[A\n",
            "Cases for baseline 7:  90%|█████████ | 9/10 [00:13<00:01,  1.46s/it]\u001b[A\n",
            "Cases for baseline 7: 100%|██████████| 10/10 [00:14<00:00,  1.52s/it]\u001b[A\n",
            "Generating baselines and querying GPT:  70%|███████   | 7/10 [01:47<00:45, 15.10s/it]\n",
            "Cases for baseline 8:   0%|          | 0/10 [00:00<?, ?it/s]\u001b[A\n",
            "Cases for baseline 8:  10%|█         | 1/10 [00:01<00:12,  1.43s/it]\u001b[A\n",
            "Cases for baseline 8:  20%|██        | 2/10 [00:02<00:11,  1.47s/it]\u001b[A\n",
            "Cases for baseline 8:  30%|███       | 3/10 [00:04<00:09,  1.43s/it]\u001b[A\n",
            "Cases for baseline 8:  40%|████      | 4/10 [00:05<00:08,  1.47s/it]\u001b[A\n",
            "Cases for baseline 8:  50%|█████     | 5/10 [00:07<00:07,  1.53s/it]\u001b[A\n",
            "Cases for baseline 8:  60%|██████    | 6/10 [00:09<00:06,  1.53s/it]\u001b[A\n",
            "Cases for baseline 8:  70%|███████   | 7/10 [00:10<00:04,  1.52s/it]\u001b[A\n",
            "Cases for baseline 8:  80%|████████  | 8/10 [00:12<00:03,  1.55s/it]\u001b[A\n",
            "Cases for baseline 8:  90%|█████████ | 9/10 [00:13<00:01,  1.49s/it]\u001b[A\n",
            "Cases for baseline 8: 100%|██████████| 10/10 [00:14<00:00,  1.49s/it]\u001b[A\n",
            "Generating baselines and querying GPT:  80%|████████  | 8/10 [02:02<00:30, 15.06s/it]\n",
            "Cases for baseline 9:   0%|          | 0/10 [00:00<?, ?it/s]\u001b[A\n",
            "Cases for baseline 9:  10%|█         | 1/10 [00:01<00:13,  1.52s/it]\u001b[A\n",
            "Cases for baseline 9:  20%|██        | 2/10 [00:02<00:11,  1.43s/it]\u001b[A\n",
            "Cases for baseline 9:  30%|███       | 3/10 [00:04<00:10,  1.47s/it]\u001b[A\n",
            "Cases for baseline 9:  40%|████      | 4/10 [00:05<00:08,  1.42s/it]\u001b[A\n",
            "Cases for baseline 9:  50%|█████     | 5/10 [00:07<00:07,  1.51s/it]\u001b[A\n",
            "Cases for baseline 9:  60%|██████    | 6/10 [00:08<00:05,  1.45s/it]\u001b[A\n",
            "Cases for baseline 9:  70%|███████   | 7/10 [00:10<00:04,  1.48s/it]\u001b[A\n",
            "Cases for baseline 9:  80%|████████  | 8/10 [00:11<00:02,  1.49s/it]\u001b[A\n",
            "Cases for baseline 9:  90%|█████████ | 9/10 [00:13<00:01,  1.44s/it]\u001b[A\n",
            "Cases for baseline 9: 100%|██████████| 10/10 [00:14<00:00,  1.48s/it]\u001b[A\n",
            "Generating baselines and querying GPT:  90%|█████████ | 9/10 [02:17<00:14, 14.95s/it]\n",
            "Cases for baseline 10:   0%|          | 0/10 [00:00<?, ?it/s]\u001b[A\n",
            "Cases for baseline 10:  10%|█         | 1/10 [00:01<00:12,  1.40s/it]\u001b[A\n",
            "Cases for baseline 10:  20%|██        | 2/10 [00:02<00:11,  1.46s/it]\u001b[A\n",
            "Cases for baseline 10:  30%|███       | 3/10 [00:04<00:10,  1.45s/it]\u001b[A\n",
            "Cases for baseline 10:  40%|████      | 4/10 [00:05<00:08,  1.44s/it]\u001b[A\n",
            "Cases for baseline 10:  50%|█████     | 5/10 [00:07<00:07,  1.57s/it]\u001b[A\n",
            "Cases for baseline 10:  60%|██████    | 6/10 [00:08<00:06,  1.52s/it]\u001b[A\n",
            "Cases for baseline 10:  70%|███████   | 7/10 [00:10<00:04,  1.47s/it]\u001b[A\n",
            "Cases for baseline 10:  80%|████████  | 8/10 [00:11<00:02,  1.46s/it]\u001b[A\n",
            "Cases for baseline 10:  90%|█████████ | 9/10 [00:13<00:01,  1.47s/it]\u001b[A\n",
            "Cases for baseline 10: 100%|██████████| 10/10 [00:14<00:00,  1.47s/it]\u001b[A\n",
            "Generating baselines and querying GPT: 100%|██████████| 10/10 [02:31<00:00, 15.19s/it]\n"
          ]
        }
      ],
      "source": [
        "# --- STEP 9: Main loop (generate cases, retrieve guidelines, query GPT)\n",
        "all_cases = []\n",
        "all_prompts = []\n",
        "all_responses = []\n",
        "\n",
        "for i in tqdm(range(10), desc=\"Generating baselines and querying GPT\"):\n",
        "    baseline = generate_baseline()\n",
        "    cases = generate_cases_from_baseline(baseline)\n",
        "\n",
        "    for case in tqdm(cases, desc=f\"Cases for baseline {i+1}\", leave=False):\n",
        "        # Dynamically retrieve relevant guideline for each case\n",
        "        query = \"fluid resuscitation initial amount sepsis\"\n",
        "        retrieved_context = retrieve_guideline(query)\n",
        "\n",
        "        # Create full prompt\n",
        "        full_prompt = case_template.format(guideline_context=retrieved_context, **case)\n",
        "        # Ask GPT\n",
        "        response = ask_gpt(full_prompt)\n",
        "\n",
        "        # Store results\n",
        "        all_cases.append(case)\n",
        "        all_prompts.append(full_prompt)\n",
        "        all_responses.append(response)\n",
        "\n",
        "        time.sleep(1)  # Avoid rate limit"
      ]
    },
    {
      "cell_type": "code",
      "execution_count": 95,
      "metadata": {
        "colab": {
          "base_uri": "https://localhost:8080/"
        },
        "id": "JiFrKsN3Zpjo",
        "outputId": "190a3138-905b-4bde-f715-d9a28bd312ee"
      },
      "outputs": [
        {
          "name": "stdout",
          "output_type": "stream",
          "text": [
            "Baseline 10 -> Valid points: 10\n"
          ]
        }
      ],
      "source": [
        "print(f\"Baseline {i+1} -> Valid points: {len(weights)}\")"
      ]
    },
    {
      "cell_type": "code",
      "execution_count": 96,
      "metadata": {
        "colab": {
          "base_uri": "https://localhost:8080/"
        },
        "id": "IPg7Xx7BcRjn",
        "outputId": "44446b7f-6eac-47fa-b857-45497eafa0a1"
      },
      "outputs": [
        {
          "name": "stdout",
          "output_type": "stream",
          "text": [
            "\n",
            "=== Baseline 1 ===\n",
            "{'age': 56, 'sbp': 74, 'dbp': 55, 'hr': 116, 'rr': 20, 'temp_c': 38.5, 'temp_f': 101.3, 'spo2': 96, 'gcs': 15, 'wbc': 23471, 'creatinine': 2.9748956074885355, 'baseline_cr': 1.0, 'lactate': 4.468357212307739, 'urine_output': 5, 'weight': 40}\n",
            "{'age': 56, 'sbp': 74, 'dbp': 55, 'hr': 116, 'rr': 20, 'temp_c': 38.5, 'temp_f': 101.3, 'spo2': 96, 'gcs': 15, 'wbc': 23471, 'creatinine': 2.974008065731246, 'baseline_cr': 1.0, 'lactate': 4.6135372954731935, 'urine_output': 5, 'weight': 50}\n",
            "{'age': 56, 'sbp': 74, 'dbp': 55, 'hr': 116, 'rr': 20, 'temp_c': 38.5, 'temp_f': 101.3, 'spo2': 96, 'gcs': 15, 'wbc': 23471, 'creatinine': 2.988164492949272, 'baseline_cr': 1.0, 'lactate': 4.562466270143313, 'urine_output': 5, 'weight': 60}\n",
            "{'age': 56, 'sbp': 74, 'dbp': 55, 'hr': 116, 'rr': 20, 'temp_c': 38.5, 'temp_f': 101.3, 'spo2': 96, 'gcs': 15, 'wbc': 23471, 'creatinine': 2.9719908880206822, 'baseline_cr': 1.0, 'lactate': 4.402273278229766, 'urine_output': 5, 'weight': 70}\n",
            "{'age': 56, 'sbp': 74, 'dbp': 55, 'hr': 116, 'rr': 20, 'temp_c': 38.5, 'temp_f': 101.3, 'spo2': 96, 'gcs': 15, 'wbc': 23471, 'creatinine': 2.931735019205721, 'baseline_cr': 1.0, 'lactate': 4.561681871422342, 'urine_output': 5, 'weight': 80}\n",
            "{'age': 56, 'sbp': 74, 'dbp': 55, 'hr': 116, 'rr': 20, 'temp_c': 38.5, 'temp_f': 101.3, 'spo2': 96, 'gcs': 15, 'wbc': 23471, 'creatinine': 2.862273351894191, 'baseline_cr': 1.0, 'lactate': 4.5098417164098334, 'urine_output': 5, 'weight': 90}\n",
            "{'age': 56, 'sbp': 74, 'dbp': 55, 'hr': 116, 'rr': 20, 'temp_c': 38.5, 'temp_f': 101.3, 'spo2': 96, 'gcs': 15, 'wbc': 23471, 'creatinine': 2.8637624417172987, 'baseline_cr': 1.0, 'lactate': 4.569907472510671, 'urine_output': 5, 'weight': 100}\n",
            "{'age': 56, 'sbp': 74, 'dbp': 55, 'hr': 116, 'rr': 20, 'temp_c': 38.5, 'temp_f': 101.3, 'spo2': 96, 'gcs': 15, 'wbc': 23471, 'creatinine': 2.8277150276745036, 'baseline_cr': 1.0, 'lactate': 4.492215338921186, 'urine_output': 5, 'weight': 110}\n",
            "{'age': 56, 'sbp': 74, 'dbp': 55, 'hr': 116, 'rr': 20, 'temp_c': 38.5, 'temp_f': 101.3, 'spo2': 96, 'gcs': 15, 'wbc': 23471, 'creatinine': 2.969896721340044, 'baseline_cr': 1.0, 'lactate': 4.448432436981095, 'urine_output': 5, 'weight': 120}\n",
            "{'age': 56, 'sbp': 74, 'dbp': 55, 'hr': 116, 'rr': 20, 'temp_c': 38.5, 'temp_f': 101.3, 'spo2': 96, 'gcs': 15, 'wbc': 23471, 'creatinine': 2.839938016396843, 'baseline_cr': 1.0, 'lactate': 4.547108853621104, 'urine_output': 5, 'weight': 130}\n",
            "\n",
            "=== Baseline 2 ===\n",
            "{'age': 52, 'sbp': 73, 'dbp': 41, 'hr': 114, 'rr': 26, 'temp_c': 39.1, 'temp_f': 102.4, 'spo2': 92, 'gcs': 12, 'wbc': 22777, 'creatinine': 2.150276538561344, 'baseline_cr': 1.1, 'lactate': 3.003171064328635, 'urine_output': 0, 'weight': 40}\n",
            "{'age': 52, 'sbp': 73, 'dbp': 41, 'hr': 114, 'rr': 26, 'temp_c': 39.1, 'temp_f': 102.4, 'spo2': 92, 'gcs': 12, 'wbc': 22777, 'creatinine': 2.279646328195828, 'baseline_cr': 1.1, 'lactate': 3.0095699730550862, 'urine_output': 0, 'weight': 50}\n",
            "{'age': 52, 'sbp': 73, 'dbp': 41, 'hr': 114, 'rr': 26, 'temp_c': 39.1, 'temp_f': 102.4, 'spo2': 92, 'gcs': 12, 'wbc': 22777, 'creatinine': 2.103694676683881, 'baseline_cr': 1.1, 'lactate': 2.906528731502484, 'urine_output': 0, 'weight': 60}\n",
            "{'age': 52, 'sbp': 73, 'dbp': 41, 'hr': 114, 'rr': 26, 'temp_c': 39.1, 'temp_f': 102.4, 'spo2': 92, 'gcs': 12, 'wbc': 22777, 'creatinine': 2.265266299843724, 'baseline_cr': 1.1, 'lactate': 3.067538088549101, 'urine_output': 0, 'weight': 70}\n",
            "{'age': 52, 'sbp': 73, 'dbp': 41, 'hr': 114, 'rr': 26, 'temp_c': 39.1, 'temp_f': 102.4, 'spo2': 92, 'gcs': 12, 'wbc': 22777, 'creatinine': 2.11416921285452, 'baseline_cr': 1.1, 'lactate': 2.892292129241882, 'urine_output': 0, 'weight': 80}\n",
            "{'age': 52, 'sbp': 73, 'dbp': 41, 'hr': 114, 'rr': 26, 'temp_c': 39.1, 'temp_f': 102.4, 'spo2': 92, 'gcs': 12, 'wbc': 22777, 'creatinine': 2.1319981980444624, 'baseline_cr': 1.1, 'lactate': 2.9924349517038835, 'urine_output': 0, 'weight': 90}\n",
            "{'age': 52, 'sbp': 73, 'dbp': 41, 'hr': 114, 'rr': 26, 'temp_c': 39.1, 'temp_f': 102.4, 'spo2': 92, 'gcs': 12, 'wbc': 22777, 'creatinine': 2.218638447950706, 'baseline_cr': 1.1, 'lactate': 3.15901489551343, 'urine_output': 0, 'weight': 100}\n",
            "{'age': 52, 'sbp': 73, 'dbp': 41, 'hr': 114, 'rr': 26, 'temp_c': 39.1, 'temp_f': 102.4, 'spo2': 92, 'gcs': 12, 'wbc': 22777, 'creatinine': 2.196205946573691, 'baseline_cr': 1.1, 'lactate': 3.195410984287747, 'urine_output': 0, 'weight': 110}\n",
            "{'age': 52, 'sbp': 73, 'dbp': 41, 'hr': 114, 'rr': 26, 'temp_c': 39.1, 'temp_f': 102.4, 'spo2': 92, 'gcs': 12, 'wbc': 22777, 'creatinine': 2.114755552102337, 'baseline_cr': 1.1, 'lactate': 2.967689485381298, 'urine_output': 0, 'weight': 120}\n",
            "{'age': 52, 'sbp': 73, 'dbp': 41, 'hr': 114, 'rr': 26, 'temp_c': 39.1, 'temp_f': 102.4, 'spo2': 92, 'gcs': 12, 'wbc': 22777, 'creatinine': 2.2192054668451773, 'baseline_cr': 1.1, 'lactate': 2.9062816475751334, 'urine_output': 0, 'weight': 130}\n",
            "\n",
            "=== Baseline 3 ===\n",
            "{'age': 79, 'sbp': 90, 'dbp': 41, 'hr': 115, 'rr': 21, 'temp_c': 39.0, 'temp_f': 102.2, 'spo2': 93, 'gcs': 15, 'wbc': 13078, 'creatinine': 2.364469968404152, 'baseline_cr': 1.1, 'lactate': 2.6445245470807306, 'urine_output': 5, 'weight': 40}\n",
            "{'age': 79, 'sbp': 90, 'dbp': 41, 'hr': 115, 'rr': 21, 'temp_c': 39.0, 'temp_f': 102.2, 'spo2': 93, 'gcs': 15, 'wbc': 13078, 'creatinine': 2.362790982718695, 'baseline_cr': 1.1, 'lactate': 2.688335407010081, 'urine_output': 5, 'weight': 50}\n",
            "{'age': 79, 'sbp': 90, 'dbp': 41, 'hr': 115, 'rr': 21, 'temp_c': 39.0, 'temp_f': 102.2, 'spo2': 93, 'gcs': 15, 'wbc': 13078, 'creatinine': 2.3793790099156316, 'baseline_cr': 1.1, 'lactate': 2.7039255100502544, 'urine_output': 5, 'weight': 60}\n",
            "{'age': 79, 'sbp': 90, 'dbp': 41, 'hr': 115, 'rr': 21, 'temp_c': 39.0, 'temp_f': 102.2, 'spo2': 93, 'gcs': 15, 'wbc': 13078, 'creatinine': 2.3011260142060204, 'baseline_cr': 1.1, 'lactate': 2.619288242925247, 'urine_output': 5, 'weight': 70}\n",
            "{'age': 79, 'sbp': 90, 'dbp': 41, 'hr': 115, 'rr': 21, 'temp_c': 39.0, 'temp_f': 102.2, 'spo2': 93, 'gcs': 15, 'wbc': 13078, 'creatinine': 2.39978649032945, 'baseline_cr': 1.1, 'lactate': 2.976292181621036, 'urine_output': 5, 'weight': 80}\n",
            "{'age': 79, 'sbp': 90, 'dbp': 41, 'hr': 115, 'rr': 21, 'temp_c': 39.0, 'temp_f': 102.2, 'spo2': 93, 'gcs': 15, 'wbc': 13078, 'creatinine': 2.4311536838493635, 'baseline_cr': 1.1, 'lactate': 2.915895504702563, 'urine_output': 5, 'weight': 90}\n",
            "{'age': 79, 'sbp': 90, 'dbp': 41, 'hr': 115, 'rr': 21, 'temp_c': 39.0, 'temp_f': 102.2, 'spo2': 93, 'gcs': 15, 'wbc': 13078, 'creatinine': 2.4775102558336157, 'baseline_cr': 1.1, 'lactate': 2.9467060620972116, 'urine_output': 5, 'weight': 100}\n",
            "{'age': 79, 'sbp': 90, 'dbp': 41, 'hr': 115, 'rr': 21, 'temp_c': 39.0, 'temp_f': 102.2, 'spo2': 93, 'gcs': 15, 'wbc': 13078, 'creatinine': 2.3607167999478587, 'baseline_cr': 1.1, 'lactate': 2.878567328952817, 'urine_output': 5, 'weight': 110}\n",
            "{'age': 79, 'sbp': 90, 'dbp': 41, 'hr': 115, 'rr': 21, 'temp_c': 39.0, 'temp_f': 102.2, 'spo2': 93, 'gcs': 15, 'wbc': 13078, 'creatinine': 2.4789604809052634, 'baseline_cr': 1.1, 'lactate': 2.64456137799689, 'urine_output': 5, 'weight': 120}\n",
            "{'age': 79, 'sbp': 90, 'dbp': 41, 'hr': 115, 'rr': 21, 'temp_c': 39.0, 'temp_f': 102.2, 'spo2': 93, 'gcs': 15, 'wbc': 13078, 'creatinine': 2.395294121862205, 'baseline_cr': 1.1, 'lactate': 2.6068724666782606, 'urine_output': 5, 'weight': 130}\n",
            "\n",
            "=== Baseline 4 ===\n",
            "{'age': 60, 'sbp': 71, 'dbp': 43, 'hr': 109, 'rr': 23, 'temp_c': 39.6, 'temp_f': 103.3, 'spo2': 97, 'gcs': 12, 'wbc': 19333, 'creatinine': 2.567271859872483, 'baseline_cr': 1.2, 'lactate': 3.968985262238978, 'urine_output': 1, 'weight': 40}\n",
            "{'age': 60, 'sbp': 71, 'dbp': 43, 'hr': 109, 'rr': 23, 'temp_c': 39.6, 'temp_f': 103.3, 'spo2': 97, 'gcs': 12, 'wbc': 19333, 'creatinine': 2.6115252134553852, 'baseline_cr': 1.2, 'lactate': 3.6259625734669085, 'urine_output': 1, 'weight': 50}\n",
            "{'age': 60, 'sbp': 71, 'dbp': 43, 'hr': 109, 'rr': 23, 'temp_c': 39.6, 'temp_f': 103.3, 'spo2': 97, 'gcs': 12, 'wbc': 19333, 'creatinine': 2.6468475889588943, 'baseline_cr': 1.2, 'lactate': 3.9757669419054964, 'urine_output': 1, 'weight': 60}\n",
            "{'age': 60, 'sbp': 71, 'dbp': 43, 'hr': 109, 'rr': 23, 'temp_c': 39.6, 'temp_f': 103.3, 'spo2': 97, 'gcs': 12, 'wbc': 19333, 'creatinine': 2.567913565469959, 'baseline_cr': 1.2, 'lactate': 3.678052898421367, 'urine_output': 1, 'weight': 70}\n",
            "{'age': 60, 'sbp': 71, 'dbp': 43, 'hr': 109, 'rr': 23, 'temp_c': 39.6, 'temp_f': 103.3, 'spo2': 97, 'gcs': 12, 'wbc': 19333, 'creatinine': 2.5333823404768445, 'baseline_cr': 1.2, 'lactate': 3.9193792071000173, 'urine_output': 1, 'weight': 80}\n",
            "{'age': 60, 'sbp': 71, 'dbp': 43, 'hr': 109, 'rr': 23, 'temp_c': 39.6, 'temp_f': 103.3, 'spo2': 97, 'gcs': 12, 'wbc': 19333, 'creatinine': 2.53600941931052, 'baseline_cr': 1.2, 'lactate': 3.7164842242232776, 'urine_output': 1, 'weight': 90}\n",
            "{'age': 60, 'sbp': 71, 'dbp': 43, 'hr': 109, 'rr': 23, 'temp_c': 39.6, 'temp_f': 103.3, 'spo2': 97, 'gcs': 12, 'wbc': 19333, 'creatinine': 2.5401022006031595, 'baseline_cr': 1.2, 'lactate': 3.786262880262455, 'urine_output': 1, 'weight': 100}\n",
            "{'age': 60, 'sbp': 71, 'dbp': 43, 'hr': 109, 'rr': 23, 'temp_c': 39.6, 'temp_f': 103.3, 'spo2': 97, 'gcs': 12, 'wbc': 19333, 'creatinine': 2.5249024331957544, 'baseline_cr': 1.2, 'lactate': 3.877912830468437, 'urine_output': 1, 'weight': 110}\n",
            "{'age': 60, 'sbp': 71, 'dbp': 43, 'hr': 109, 'rr': 23, 'temp_c': 39.6, 'temp_f': 103.3, 'spo2': 97, 'gcs': 12, 'wbc': 19333, 'creatinine': 2.5541638606377566, 'baseline_cr': 1.2, 'lactate': 3.6890730809008123, 'urine_output': 1, 'weight': 120}\n",
            "{'age': 60, 'sbp': 71, 'dbp': 43, 'hr': 109, 'rr': 23, 'temp_c': 39.6, 'temp_f': 103.3, 'spo2': 97, 'gcs': 12, 'wbc': 19333, 'creatinine': 2.634581010624776, 'baseline_cr': 1.2, 'lactate': 3.643709074814978, 'urine_output': 1, 'weight': 130}\n",
            "\n",
            "=== Baseline 5 ===\n",
            "{'age': 54, 'sbp': 84, 'dbp': 44, 'hr': 100, 'rr': 30, 'temp_c': 39.1, 'temp_f': 102.4, 'spo2': 93, 'gcs': 12, 'wbc': 16334, 'creatinine': 1.4288037333660948, 'baseline_cr': 0.9, 'lactate': 4.079794394149076, 'urine_output': 3, 'weight': 40}\n",
            "{'age': 54, 'sbp': 84, 'dbp': 44, 'hr': 100, 'rr': 30, 'temp_c': 39.1, 'temp_f': 102.4, 'spo2': 93, 'gcs': 12, 'wbc': 16334, 'creatinine': 1.4361245948373025, 'baseline_cr': 0.9, 'lactate': 3.896786025693723, 'urine_output': 3, 'weight': 50}\n",
            "{'age': 54, 'sbp': 84, 'dbp': 44, 'hr': 100, 'rr': 30, 'temp_c': 39.1, 'temp_f': 102.4, 'spo2': 93, 'gcs': 12, 'wbc': 16334, 'creatinine': 1.4955276450685024, 'baseline_cr': 0.9, 'lactate': 4.077173842286662, 'urine_output': 3, 'weight': 60}\n",
            "{'age': 54, 'sbp': 84, 'dbp': 44, 'hr': 100, 'rr': 30, 'temp_c': 39.1, 'temp_f': 102.4, 'spo2': 93, 'gcs': 12, 'wbc': 16334, 'creatinine': 1.5854686251493977, 'baseline_cr': 0.9, 'lactate': 3.9018313831616744, 'urine_output': 3, 'weight': 70}\n",
            "{'age': 54, 'sbp': 84, 'dbp': 44, 'hr': 100, 'rr': 30, 'temp_c': 39.1, 'temp_f': 102.4, 'spo2': 93, 'gcs': 12, 'wbc': 16334, 'creatinine': 1.4300513623644995, 'baseline_cr': 0.9, 'lactate': 4.1276691292729915, 'urine_output': 3, 'weight': 80}\n",
            "{'age': 54, 'sbp': 84, 'dbp': 44, 'hr': 100, 'rr': 30, 'temp_c': 39.1, 'temp_f': 102.4, 'spo2': 93, 'gcs': 12, 'wbc': 16334, 'creatinine': 1.4169100900657425, 'baseline_cr': 0.9, 'lactate': 4.107634108663722, 'urine_output': 3, 'weight': 90}\n",
            "{'age': 54, 'sbp': 84, 'dbp': 44, 'hr': 100, 'rr': 30, 'temp_c': 39.1, 'temp_f': 102.4, 'spo2': 93, 'gcs': 12, 'wbc': 16334, 'creatinine': 1.5911198980476768, 'baseline_cr': 0.9, 'lactate': 3.8695346479042474, 'urine_output': 3, 'weight': 100}\n",
            "{'age': 54, 'sbp': 84, 'dbp': 44, 'hr': 100, 'rr': 30, 'temp_c': 39.1, 'temp_f': 102.4, 'spo2': 93, 'gcs': 12, 'wbc': 16334, 'creatinine': 1.446821121017933, 'baseline_cr': 0.9, 'lactate': 3.9461517288666146, 'urine_output': 3, 'weight': 110}\n",
            "{'age': 54, 'sbp': 84, 'dbp': 44, 'hr': 100, 'rr': 30, 'temp_c': 39.1, 'temp_f': 102.4, 'spo2': 93, 'gcs': 12, 'wbc': 16334, 'creatinine': 1.5241753623576222, 'baseline_cr': 0.9, 'lactate': 3.873453198662413, 'urine_output': 3, 'weight': 120}\n",
            "{'age': 54, 'sbp': 84, 'dbp': 44, 'hr': 100, 'rr': 30, 'temp_c': 39.1, 'temp_f': 102.4, 'spo2': 93, 'gcs': 12, 'wbc': 16334, 'creatinine': 1.5451921045930284, 'baseline_cr': 0.9, 'lactate': 4.136879706566725, 'urine_output': 3, 'weight': 130}\n",
            "\n",
            "=== Baseline 6 ===\n",
            "{'age': 76, 'sbp': 81, 'dbp': 43, 'hr': 111, 'rr': 19, 'temp_c': 39.0, 'temp_f': 102.2, 'spo2': 95, 'gcs': 12, 'wbc': 14515, 'creatinine': 1.7827575888608003, 'baseline_cr': 1.1, 'lactate': 4.360061463390516, 'urine_output': 3, 'weight': 40}\n",
            "{'age': 76, 'sbp': 81, 'dbp': 43, 'hr': 111, 'rr': 19, 'temp_c': 39.0, 'temp_f': 102.2, 'spo2': 95, 'gcs': 12, 'wbc': 14515, 'creatinine': 1.7480301877825766, 'baseline_cr': 1.1, 'lactate': 4.274324917608242, 'urine_output': 3, 'weight': 50}\n",
            "{'age': 76, 'sbp': 81, 'dbp': 43, 'hr': 111, 'rr': 19, 'temp_c': 39.0, 'temp_f': 102.2, 'spo2': 95, 'gcs': 12, 'wbc': 14515, 'creatinine': 1.6979861176186508, 'baseline_cr': 1.1, 'lactate': 4.039056573892916, 'urine_output': 3, 'weight': 60}\n",
            "{'age': 76, 'sbp': 81, 'dbp': 43, 'hr': 111, 'rr': 19, 'temp_c': 39.0, 'temp_f': 102.2, 'spo2': 95, 'gcs': 12, 'wbc': 14515, 'creatinine': 1.6657189034309021, 'baseline_cr': 1.1, 'lactate': 4.334194436595186, 'urine_output': 3, 'weight': 70}\n",
            "{'age': 76, 'sbp': 81, 'dbp': 43, 'hr': 111, 'rr': 19, 'temp_c': 39.0, 'temp_f': 102.2, 'spo2': 95, 'gcs': 12, 'wbc': 14515, 'creatinine': 1.691703975061047, 'baseline_cr': 1.1, 'lactate': 4.3900681682471, 'urine_output': 3, 'weight': 80}\n",
            "{'age': 76, 'sbp': 81, 'dbp': 43, 'hr': 111, 'rr': 19, 'temp_c': 39.0, 'temp_f': 102.2, 'spo2': 95, 'gcs': 12, 'wbc': 14515, 'creatinine': 1.760100094002138, 'baseline_cr': 1.1, 'lactate': 4.390405624637722, 'urine_output': 3, 'weight': 90}\n",
            "{'age': 76, 'sbp': 81, 'dbp': 43, 'hr': 111, 'rr': 19, 'temp_c': 39.0, 'temp_f': 102.2, 'spo2': 95, 'gcs': 12, 'wbc': 14515, 'creatinine': 1.6249990145582134, 'baseline_cr': 1.1, 'lactate': 4.256172659847386, 'urine_output': 3, 'weight': 100}\n",
            "{'age': 76, 'sbp': 81, 'dbp': 43, 'hr': 111, 'rr': 19, 'temp_c': 39.0, 'temp_f': 102.2, 'spo2': 95, 'gcs': 12, 'wbc': 14515, 'creatinine': 1.6207882006073007, 'baseline_cr': 1.1, 'lactate': 4.396489909604423, 'urine_output': 3, 'weight': 110}\n",
            "{'age': 76, 'sbp': 81, 'dbp': 43, 'hr': 111, 'rr': 19, 'temp_c': 39.0, 'temp_f': 102.2, 'spo2': 95, 'gcs': 12, 'wbc': 14515, 'creatinine': 1.7164901436789337, 'baseline_cr': 1.1, 'lactate': 4.294635015440151, 'urine_output': 3, 'weight': 120}\n",
            "{'age': 76, 'sbp': 81, 'dbp': 43, 'hr': 111, 'rr': 19, 'temp_c': 39.0, 'temp_f': 102.2, 'spo2': 95, 'gcs': 12, 'wbc': 14515, 'creatinine': 1.6618041842370583, 'baseline_cr': 1.1, 'lactate': 4.052640272561985, 'urine_output': 3, 'weight': 130}\n",
            "\n",
            "=== Baseline 7 ===\n",
            "{'age': 77, 'sbp': 90, 'dbp': 41, 'hr': 108, 'rr': 19, 'temp_c': 38.1, 'temp_f': 100.6, 'spo2': 91, 'gcs': 12, 'wbc': 20028, 'creatinine': 1.6062430945376938, 'baseline_cr': 1.1, 'lactate': 3.425892533990176, 'urine_output': 2, 'weight': 40}\n",
            "{'age': 77, 'sbp': 90, 'dbp': 41, 'hr': 108, 'rr': 19, 'temp_c': 38.1, 'temp_f': 100.6, 'spo2': 91, 'gcs': 12, 'wbc': 20028, 'creatinine': 1.6459142412276013, 'baseline_cr': 1.1, 'lactate': 3.573495191813602, 'urine_output': 2, 'weight': 50}\n",
            "{'age': 77, 'sbp': 90, 'dbp': 41, 'hr': 108, 'rr': 19, 'temp_c': 38.1, 'temp_f': 100.6, 'spo2': 91, 'gcs': 12, 'wbc': 20028, 'creatinine': 1.5584974173184516, 'baseline_cr': 1.1, 'lactate': 3.454763974085739, 'urine_output': 2, 'weight': 60}\n",
            "{'age': 77, 'sbp': 90, 'dbp': 41, 'hr': 108, 'rr': 19, 'temp_c': 38.1, 'temp_f': 100.6, 'spo2': 91, 'gcs': 12, 'wbc': 20028, 'creatinine': 1.618263080543836, 'baseline_cr': 1.1, 'lactate': 3.481683423178552, 'urine_output': 2, 'weight': 70}\n",
            "{'age': 77, 'sbp': 90, 'dbp': 41, 'hr': 108, 'rr': 19, 'temp_c': 38.1, 'temp_f': 100.6, 'spo2': 91, 'gcs': 12, 'wbc': 20028, 'creatinine': 1.6099536400658092, 'baseline_cr': 1.1, 'lactate': 3.4338978189100895, 'urine_output': 2, 'weight': 80}\n",
            "{'age': 77, 'sbp': 90, 'dbp': 41, 'hr': 108, 'rr': 19, 'temp_c': 38.1, 'temp_f': 100.6, 'spo2': 91, 'gcs': 12, 'wbc': 20028, 'creatinine': 1.5019325710886424, 'baseline_cr': 1.1, 'lactate': 3.4245984344086837, 'urine_output': 2, 'weight': 90}\n",
            "{'age': 77, 'sbp': 90, 'dbp': 41, 'hr': 108, 'rr': 19, 'temp_c': 38.1, 'temp_f': 100.6, 'spo2': 91, 'gcs': 12, 'wbc': 20028, 'creatinine': 1.5849182100881785, 'baseline_cr': 1.1, 'lactate': 3.4983288064477702, 'urine_output': 2, 'weight': 100}\n",
            "{'age': 77, 'sbp': 90, 'dbp': 41, 'hr': 108, 'rr': 19, 'temp_c': 38.1, 'temp_f': 100.6, 'spo2': 91, 'gcs': 12, 'wbc': 20028, 'creatinine': 1.6933637111288788, 'baseline_cr': 1.1, 'lactate': 3.5035616201366606, 'urine_output': 2, 'weight': 110}\n",
            "{'age': 77, 'sbp': 90, 'dbp': 41, 'hr': 108, 'rr': 19, 'temp_c': 38.1, 'temp_f': 100.6, 'spo2': 91, 'gcs': 12, 'wbc': 20028, 'creatinine': 1.5850898180249375, 'baseline_cr': 1.1, 'lactate': 3.2591441396545138, 'urine_output': 2, 'weight': 120}\n",
            "{'age': 77, 'sbp': 90, 'dbp': 41, 'hr': 108, 'rr': 19, 'temp_c': 38.1, 'temp_f': 100.6, 'spo2': 91, 'gcs': 12, 'wbc': 20028, 'creatinine': 1.6870386449853032, 'baseline_cr': 1.1, 'lactate': 3.4058203664970144, 'urine_output': 2, 'weight': 130}\n",
            "\n",
            "=== Baseline 8 ===\n",
            "{'age': 63, 'sbp': 70, 'dbp': 44, 'hr': 113, 'rr': 25, 'temp_c': 39.2, 'temp_f': 102.6, 'spo2': 98, 'gcs': 12, 'wbc': 22880, 'creatinine': 1.798878496989132, 'baseline_cr': 1.1, 'lactate': 2.482920349826267, 'urine_output': 4, 'weight': 40}\n",
            "{'age': 63, 'sbp': 70, 'dbp': 44, 'hr': 113, 'rr': 25, 'temp_c': 39.2, 'temp_f': 102.6, 'spo2': 98, 'gcs': 12, 'wbc': 22880, 'creatinine': 1.8542581468977606, 'baseline_cr': 1.1, 'lactate': 2.4546386803901785, 'urine_output': 4, 'weight': 50}\n",
            "{'age': 63, 'sbp': 70, 'dbp': 44, 'hr': 113, 'rr': 25, 'temp_c': 39.2, 'temp_f': 102.6, 'spo2': 98, 'gcs': 12, 'wbc': 22880, 'creatinine': 1.7722701754347514, 'baseline_cr': 1.1, 'lactate': 2.4942213041021803, 'urine_output': 4, 'weight': 60}\n",
            "{'age': 63, 'sbp': 70, 'dbp': 44, 'hr': 113, 'rr': 25, 'temp_c': 39.2, 'temp_f': 102.6, 'spo2': 98, 'gcs': 12, 'wbc': 22880, 'creatinine': 1.7235832601338852, 'baseline_cr': 1.1, 'lactate': 2.7129246689784106, 'urine_output': 4, 'weight': 70}\n",
            "{'age': 63, 'sbp': 70, 'dbp': 44, 'hr': 113, 'rr': 25, 'temp_c': 39.2, 'temp_f': 102.6, 'spo2': 98, 'gcs': 12, 'wbc': 22880, 'creatinine': 1.7815116328086413, 'baseline_cr': 1.1, 'lactate': 2.4198046265326454, 'urine_output': 4, 'weight': 80}\n",
            "{'age': 63, 'sbp': 70, 'dbp': 44, 'hr': 113, 'rr': 25, 'temp_c': 39.2, 'temp_f': 102.6, 'spo2': 98, 'gcs': 12, 'wbc': 22880, 'creatinine': 1.8249521571070895, 'baseline_cr': 1.1, 'lactate': 2.7803973156969732, 'urine_output': 4, 'weight': 90}\n",
            "{'age': 63, 'sbp': 70, 'dbp': 44, 'hr': 113, 'rr': 25, 'temp_c': 39.2, 'temp_f': 102.6, 'spo2': 98, 'gcs': 12, 'wbc': 22880, 'creatinine': 1.7154835747530195, 'baseline_cr': 1.1, 'lactate': 2.638037799137007, 'urine_output': 4, 'weight': 100}\n",
            "{'age': 63, 'sbp': 70, 'dbp': 44, 'hr': 113, 'rr': 25, 'temp_c': 39.2, 'temp_f': 102.6, 'spo2': 98, 'gcs': 12, 'wbc': 22880, 'creatinine': 1.7433942037621533, 'baseline_cr': 1.1, 'lactate': 2.642781556296289, 'urine_output': 4, 'weight': 110}\n",
            "{'age': 63, 'sbp': 70, 'dbp': 44, 'hr': 113, 'rr': 25, 'temp_c': 39.2, 'temp_f': 102.6, 'spo2': 98, 'gcs': 12, 'wbc': 22880, 'creatinine': 1.8006824875894587, 'baseline_cr': 1.1, 'lactate': 2.689492672092219, 'urine_output': 4, 'weight': 120}\n",
            "{'age': 63, 'sbp': 70, 'dbp': 44, 'hr': 113, 'rr': 25, 'temp_c': 39.2, 'temp_f': 102.6, 'spo2': 98, 'gcs': 12, 'wbc': 22880, 'creatinine': 1.865022802483739, 'baseline_cr': 1.1, 'lactate': 2.721998171506739, 'urine_output': 4, 'weight': 130}\n",
            "\n",
            "=== Baseline 9 ===\n",
            "{'age': 72, 'sbp': 83, 'dbp': 41, 'hr': 122, 'rr': 28, 'temp_c': 38.5, 'temp_f': 101.3, 'spo2': 96, 'gcs': 13, 'wbc': 12914, 'creatinine': 2.919322093778427, 'baseline_cr': 0.9, 'lactate': 2.8654055534898797, 'urine_output': 5, 'weight': 40}\n",
            "{'age': 72, 'sbp': 83, 'dbp': 41, 'hr': 122, 'rr': 28, 'temp_c': 38.5, 'temp_f': 101.3, 'spo2': 96, 'gcs': 13, 'wbc': 12914, 'creatinine': 2.822398044095259, 'baseline_cr': 0.9, 'lactate': 3.072731240142729, 'urine_output': 5, 'weight': 50}\n",
            "{'age': 72, 'sbp': 83, 'dbp': 41, 'hr': 122, 'rr': 28, 'temp_c': 38.5, 'temp_f': 101.3, 'spo2': 96, 'gcs': 13, 'wbc': 12914, 'creatinine': 2.88910065174918, 'baseline_cr': 0.9, 'lactate': 3.0359906839760433, 'urine_output': 5, 'weight': 60}\n",
            "{'age': 72, 'sbp': 83, 'dbp': 41, 'hr': 122, 'rr': 28, 'temp_c': 38.5, 'temp_f': 101.3, 'spo2': 96, 'gcs': 13, 'wbc': 12914, 'creatinine': 2.8296554272658936, 'baseline_cr': 0.9, 'lactate': 2.9435478626364002, 'urine_output': 5, 'weight': 70}\n",
            "{'age': 72, 'sbp': 83, 'dbp': 41, 'hr': 122, 'rr': 28, 'temp_c': 38.5, 'temp_f': 101.3, 'spo2': 96, 'gcs': 13, 'wbc': 12914, 'creatinine': 2.843594802104924, 'baseline_cr': 0.9, 'lactate': 2.994886221604881, 'urine_output': 5, 'weight': 80}\n",
            "{'age': 72, 'sbp': 83, 'dbp': 41, 'hr': 122, 'rr': 28, 'temp_c': 38.5, 'temp_f': 101.3, 'spo2': 96, 'gcs': 13, 'wbc': 12914, 'creatinine': 2.829747720882305, 'baseline_cr': 0.9, 'lactate': 2.880107866597805, 'urine_output': 5, 'weight': 90}\n",
            "{'age': 72, 'sbp': 83, 'dbp': 41, 'hr': 122, 'rr': 28, 'temp_c': 38.5, 'temp_f': 101.3, 'spo2': 96, 'gcs': 13, 'wbc': 12914, 'creatinine': 2.805268680467814, 'baseline_cr': 0.9, 'lactate': 2.929710468565547, 'urine_output': 5, 'weight': 100}\n",
            "{'age': 72, 'sbp': 83, 'dbp': 41, 'hr': 122, 'rr': 28, 'temp_c': 38.5, 'temp_f': 101.3, 'spo2': 96, 'gcs': 13, 'wbc': 12914, 'creatinine': 2.9273985530037474, 'baseline_cr': 0.9, 'lactate': 3.067207794819614, 'urine_output': 5, 'weight': 110}\n",
            "{'age': 72, 'sbp': 83, 'dbp': 41, 'hr': 122, 'rr': 28, 'temp_c': 38.5, 'temp_f': 101.3, 'spo2': 96, 'gcs': 13, 'wbc': 12914, 'creatinine': 2.935394604874296, 'baseline_cr': 0.9, 'lactate': 2.9508363121180357, 'urine_output': 5, 'weight': 120}\n",
            "{'age': 72, 'sbp': 83, 'dbp': 41, 'hr': 122, 'rr': 28, 'temp_c': 38.5, 'temp_f': 101.3, 'spo2': 96, 'gcs': 13, 'wbc': 12914, 'creatinine': 2.868843476417446, 'baseline_cr': 0.9, 'lactate': 3.164135514175303, 'urine_output': 5, 'weight': 130}\n",
            "\n",
            "=== Baseline 10 ===\n",
            "{'age': 67, 'sbp': 71, 'dbp': 49, 'hr': 123, 'rr': 29, 'temp_c': 38.2, 'temp_f': 100.8, 'spo2': 97, 'gcs': 13, 'wbc': 20122, 'creatinine': 2.3300402176827095, 'baseline_cr': 0.9, 'lactate': 2.54409156575797, 'urine_output': 3, 'weight': 40}\n",
            "{'age': 67, 'sbp': 71, 'dbp': 49, 'hr': 123, 'rr': 29, 'temp_c': 38.2, 'temp_f': 100.8, 'spo2': 97, 'gcs': 13, 'wbc': 20122, 'creatinine': 2.226085582001284, 'baseline_cr': 0.9, 'lactate': 2.756847692252093, 'urine_output': 3, 'weight': 50}\n",
            "{'age': 67, 'sbp': 71, 'dbp': 49, 'hr': 123, 'rr': 29, 'temp_c': 38.2, 'temp_f': 100.8, 'spo2': 97, 'gcs': 13, 'wbc': 20122, 'creatinine': 2.3549378869946027, 'baseline_cr': 0.9, 'lactate': 2.636374716638568, 'urine_output': 3, 'weight': 60}\n",
            "{'age': 67, 'sbp': 71, 'dbp': 49, 'hr': 123, 'rr': 29, 'temp_c': 38.2, 'temp_f': 100.8, 'spo2': 97, 'gcs': 13, 'wbc': 20122, 'creatinine': 2.347826427903324, 'baseline_cr': 0.9, 'lactate': 2.591466180472327, 'urine_output': 3, 'weight': 70}\n",
            "{'age': 67, 'sbp': 71, 'dbp': 49, 'hr': 123, 'rr': 29, 'temp_c': 38.2, 'temp_f': 100.8, 'spo2': 97, 'gcs': 13, 'wbc': 20122, 'creatinine': 2.2666963576088834, 'baseline_cr': 0.9, 'lactate': 2.4997643475593456, 'urine_output': 3, 'weight': 80}\n",
            "{'age': 67, 'sbp': 71, 'dbp': 49, 'hr': 123, 'rr': 29, 'temp_c': 38.2, 'temp_f': 100.8, 'spo2': 97, 'gcs': 13, 'wbc': 20122, 'creatinine': 2.295797017305753, 'baseline_cr': 0.9, 'lactate': 2.7383149769437267, 'urine_output': 3, 'weight': 90}\n",
            "{'age': 67, 'sbp': 71, 'dbp': 49, 'hr': 123, 'rr': 29, 'temp_c': 38.2, 'temp_f': 100.8, 'spo2': 97, 'gcs': 13, 'wbc': 20122, 'creatinine': 2.283804416113932, 'baseline_cr': 0.9, 'lactate': 2.7110094354384513, 'urine_output': 3, 'weight': 100}\n",
            "{'age': 67, 'sbp': 71, 'dbp': 49, 'hr': 123, 'rr': 29, 'temp_c': 38.2, 'temp_f': 100.8, 'spo2': 97, 'gcs': 13, 'wbc': 20122, 'creatinine': 2.3049076736621674, 'baseline_cr': 0.9, 'lactate': 2.6738481401410805, 'urine_output': 3, 'weight': 110}\n",
            "{'age': 67, 'sbp': 71, 'dbp': 49, 'hr': 123, 'rr': 29, 'temp_c': 38.2, 'temp_f': 100.8, 'spo2': 97, 'gcs': 13, 'wbc': 20122, 'creatinine': 2.282258198898999, 'baseline_cr': 0.9, 'lactate': 2.506046880218873, 'urine_output': 3, 'weight': 120}\n",
            "{'age': 67, 'sbp': 71, 'dbp': 49, 'hr': 123, 'rr': 29, 'temp_c': 38.2, 'temp_f': 100.8, 'spo2': 97, 'gcs': 13, 'wbc': 20122, 'creatinine': 2.28056008796305, 'baseline_cr': 0.9, 'lactate': 2.579005828073551, 'urine_output': 3, 'weight': 130}\n"
          ]
        }
      ],
      "source": [
        "# After you finish generating\n",
        "for i in range(10):\n",
        "    print(f\"\\n=== Baseline {i+1} ===\")\n",
        "    baseline_cases = all_cases[i*10:(i+1)*10]\n",
        "    for case in baseline_cases:\n",
        "        print(case)"
      ]
    },
    {
      "cell_type": "code",
      "execution_count": 97,
      "metadata": {
        "colab": {
          "base_uri": "https://localhost:8080/",
          "height": 564
        },
        "id": "cdhdl7KHXVAE",
        "outputId": "744be080-4707-4d29-ccf5-5d37ec970f9b"
      },
      "outputs": [
        {
          "data": {
            "image/png": "[encoded data removed]",
            "text/plain": [
              "<Figure size 1000x600 with 1 Axes>"
            ]
          },
          "metadata": {},
          "output_type": "display_data"
        }
      ],
      "source": [
        "import matplotlib.pyplot as plt\n",
        "from sklearn.linear_model import LinearRegression\n",
        "import numpy as np\n",
        "\n",
        "plt.figure(figsize=(10, 6))\n",
        "\n",
        "for i in range(10):\n",
        "    subset = df_guideline.iloc[i*10:(i+1)*10]\n",
        "\n",
        "    weights = [case['weight'] for case in subset['Case_Info']]\n",
        "    fluids = subset['Fluid_Liters'].tolist()\n",
        "\n",
        "    weights = np.array(weights)\n",
        "    fluids = np.array(fluids)\n",
        "\n",
        "    # ❗ Mask NaNs\n",
        "    mask = ~np.isnan(fluids)\n",
        "    weights = weights[mask]\n",
        "    fluids = fluids[mask]\n",
        "\n",
        "    if len(weights) > 0:\n",
        "        plt.scatter(weights, fluids, label=f'Baseline {i+1}')\n",
        "\n",
        "        X = weights.reshape(-1, 1)\n",
        "        y = fluids\n",
        "        model = LinearRegression().fit(X, y)\n",
        "        y_pred = model.predict(X)\n",
        "        slope = model.coef_[0]\n",
        "\n",
        "        plt.plot(weights, y_pred, linestyle='--')\n",
        "        plt.text(np.mean(weights), np.mean(fluids), f'Slope: {slope:.3f}', fontsize=8)\n",
        "\n",
        "plt.xlabel('Body Weight (kg)')\n",
        "plt.ylabel('Recommended Fluid (L)')\n",
        "plt.title('GPT-4o Fluid Recommendation AFTER Guideline Injection')\n",
        "plt.legend()\n",
        "plt.grid(True)\n",
        "plt.show()"
      ]
    },
    {
      "cell_type": "code",
      "execution_count": null,
      "metadata": {
        "id": "wVik-2EXXU2d"
      },
      "outputs": [],
      "source": [
        "## Experiments for gpt-4"
      ]
    },
    {
      "cell_type": "code",
      "execution_count": null,
      "metadata": {
        "id": "Dfqs4ucbg_ZD"
      },
      "outputs": [],
      "source": [
        "def ask_gpt(prompt, model=\"gpt-4o\", retries=3, delay=3):\n",
        "    for _ in range(retries):\n",
        "        try:\n",
        "            response = client.chat.completions.create(\n",
        "                model=model,\n",
        "                messages=[{\"role\": \"user\", \"content\": prompt}],\n",
        "                temperature=0\n",
        "            )\n",
        "            return response.choices[0].message.content\n",
        "        except Exception as e:\n",
        "            print(f\"Error: {e}\")\n",
        "            time.sleep(delay)\n",
        "    return \"ERROR\""
      ]
    },
    {
      "cell_type": "code",
      "execution_count": null,
      "metadata": {
        "id": "ppsQ-N96hA19"
      },
      "outputs": [],
      "source": [
        "all_cases_gpt4 = []\n",
        "all_prompts_gpt4 = []\n",
        "all_responses_gpt4 = []\n",
        "\n",
        "for i in tqdm(range(10), desc=\"Generating baselines and querying GPT-4\"):\n",
        "    baseline = generate_baseline()\n",
        "    cases = generate_cases_from_baseline(baseline)\n",
        "\n",
        "    for case in tqdm(cases, desc=f\"Cases for baseline {i+1} (GPT-4)\", leave=False):\n",
        "        query = \"fluid resuscitation initial amount sepsis\"\n",
        "        retrieved_context = retrieve_guideline(query)\n",
        "\n",
        "        full_prompt = case_template.format(guideline_context=retrieved_context, **case)\n",
        "\n",
        "        response = ask_gpt(full_prompt, model=\"gpt-4\")\n",
        "\n",
        "        all_cases_gpt4.append(case)\n",
        "        all_prompts_gpt4.append(full_prompt)\n",
        "        all_responses_gpt4.append(response)\n",
        "\n",
        "        time.sleep(1)"
      ]
    },
    {
      "cell_type": "code",
      "execution_count": null,
      "metadata": {
        "id": "Hnb9QHVDhCXj"
      },
      "outputs": [],
      "source": [
        "df_guideline_gpt4o = pd.DataFrame({\n",
        "    \"Case_Info\": all_cases,\n",
        "    \"Prompt\": all_prompts,\n",
        "    \"Response\": all_responses\n",
        "})\n",
        "\n",
        "df_guideline_gpt4 = pd.DataFrame({\n",
        "    \"Case_Info\": all_cases_gpt4,\n",
        "    \"Prompt\": all_prompts_gpt4,\n",
        "    \"Response\": all_responses_gpt4\n",
        "})"
      ]
    },
    {
      "cell_type": "code",
      "execution_count": null,
      "metadata": {
        "id": "Rcp6vsJ3hMmg"
      },
      "outputs": [],
      "source": [
        "import matplotlib.pyplot as plt\n",
        "from sklearn.linear_model import LinearRegression\n",
        "import numpy as np\n",
        "\n",
        "# Plot GPT-4o\n",
        "plt.figure(figsize=(12, 7))\n",
        "\n",
        "for i in range(10):\n",
        "    subset = df_guideline_gpt4o.iloc[i*10:(i+1)*10]\n",
        "    weights = [case['weight'] for case in subset['Case_Info']]\n",
        "    fluids = []\n",
        "\n",
        "    for response in subset['Response']:\n",
        "        try:\n",
        "            fluids.append(float(response))\n",
        "        except:\n",
        "            fluids.append(np.nan)\n",
        "\n",
        "    weights = np.array(weights)\n",
        "    fluids = np.array(fluids)\n",
        "    mask = ~np.isnan(fluids)\n",
        "    weights = weights[mask]\n",
        "    fluids = fluids[mask]\n",
        "\n",
        "    if len(weights) > 0:\n",
        "        plt.scatter(weights, fluids, color='blue', alpha=0.6, label=f'GPT-4o Baseline {i+1}' if i==0 else \"\")\n",
        "\n",
        "# Plot GPT-4\n",
        "for i in range(10):\n",
        "    subset = df_guideline_gpt4.iloc[i*10:(i+1)*10]\n",
        "    weights = [case['weight'] for case in subset['Case_Info']]\n",
        "    fluids = []\n",
        "\n",
        "    for response in subset['Response']:\n",
        "        try:\n",
        "            fluids.append(float(response))\n",
        "        except:\n",
        "            fluids.append(np.nan)\n",
        "\n",
        "    weights = np.array(weights)\n",
        "    fluids = np.array(fluids)\n",
        "    mask = ~np.isnan(fluids)\n",
        "    weights = weights[mask]\n",
        "    fluids = fluids[mask]\n",
        "\n",
        "    if len(weights) > 0:\n",
        "        plt.scatter(weights, fluids, color='red', alpha=0.6, marker='x', label=f'GPT-4 Baseline {i+1}' if i==0 else \"\")\n",
        "\n",
        "# Finishing touches\n",
        "plt.xlabel('Body Weight (kg)')\n",
        "plt.ylabel('Recommended Fluid (L)')\n",
        "plt.title('GPT-4o vs GPT-4 Fluid Recommendation After Guideline Injection')\n",
        "plt.legend()\n",
        "plt.grid(True)\n",
        "plt.show()"
      ]
    },
    {
      "cell_type": "code",
      "execution_count": null,
      "metadata": {
        "id": "I6OpT138hOFv"
      },
      "outputs": [],
      "source": [
        "import matplotlib.pyplot as plt\n",
        "from sklearn.linear_model import LinearRegression\n",
        "import numpy as np\n",
        "\n",
        "plt.figure(figsize=(10, 6))\n",
        "\n",
        "for i in range(10):\n",
        "    subset = df_guideline_gpt4.iloc[i*10:(i+1)*10]\n",
        "\n",
        "    weights = [case['weight'] for case in subset['Case_Info']]\n",
        "\n",
        "    # Assuming your responses are still stored in 'Response' column as numbers\n",
        "    fluids = []\n",
        "\n",
        "    for response in subset['Response']:\n",
        "        try:\n",
        "            fluids.append(float(response))\n",
        "        except:\n",
        "            fluids.append(np.nan)\n",
        "\n",
        "    weights = np.array(weights)\n",
        "    fluids = np.array(fluids)\n",
        "\n",
        "    # ❗ Mask NaNs\n",
        "    mask = ~np.isnan(fluids)\n",
        "    weights = weights[mask]\n",
        "    fluids = fluids[mask]\n",
        "\n",
        "    if len(weights) > 0:\n",
        "        plt.scatter(weights, fluids, label=f'Baseline {i+1}')\n",
        "\n",
        "        X = weights.reshape(-1, 1)\n",
        "        y = fluids\n",
        "        model = LinearRegression().fit(X, y)\n",
        "        y_pred = model.predict(X)\n",
        "        slope = model.coef_[0]\n",
        "\n",
        "        plt.plot(weights, y_pred, linestyle='--')\n",
        "        plt.text(np.mean(weights), np.mean(fluids), f'Slope: {slope:.3f}', fontsize=8)\n",
        "\n",
        "plt.xlabel('Body Weight (kg)')\n",
        "plt.ylabel('Recommended Fluid (L)')\n",
        "plt.title('GPT-4 Fluid Recommendation AFTER Guideline Injection')\n",
        "plt.legend()\n",
        "plt.grid(True)\n",
        "plt.show()"
      ]
    },
    {
      "cell_type": "code",
      "execution_count": null,
      "metadata": {
        "id": "wIKz0rDrjq-2"
      },
      "outputs": [],
      "source": []
    }
  ],
  "metadata": {
    "colab": {
      "provenance": []
    },
    "kernelspec": {
      "display_name": "Python 3",
      "name": "python3"
    },
    "language_info": {
      "name": "python"
    }
  },
  "nbformat": 4,
  "nbformat_minor": 0
}
